{
 "cells": [
  {
   "cell_type": "markdown",
   "metadata": {},
   "source": [
    "# CHAPTER 4: NumPy Basics: Arrays and Vectorized Computation\n",
    "\n",
    "### Book: Python For Data Analysis\n",
    "\n",
    "### Notebook Author: Muhammad Hamad"
   ]
  },
  {
   "cell_type": "markdown",
   "metadata": {},
   "source": [
    "### Introduction\n",
    "NumPy, short for Numerical Python\n",
    "\n",
    "ndarray, a fast and space-efficient multidimensional array providing vectorized arithmetic operations and sophisticated broadcasting capabilities\n",
    "\n",
    "• Standard mathematical functions for fast operations on entire arrays of data without having to write loops\n",
    "\n",
    "• Tools for reading / writing array data to disk and working with memory-mapped files\n",
    "\n",
    "• Linear algebra, random number generation, and Fourier transform capabilities\n",
    "\n",
    "• Tools for integrating code written in C, C++, and Fortran"
   ]
  },
  {
   "cell_type": "markdown",
   "metadata": {},
   "source": [
    "### For most data analysis applications, the main areas of functionality I’ll focus on are:\n",
    "\n",
    "• Fast vectorized array operations for data munging and cleaning, subsetting and filtering, transformation, and any other kinds of computations\n",
    "\n",
    "• Common array algorithms like sorting, unique, and set operations\n",
    "\n",
    "• Efficient descriptive statistics and aggregating/summarizing data\n",
    "\n",
    "• Data alignment and relational data manipulations for merging and joining together heterogeneous data sets\n",
    "\n",
    "• Expressing conditional logic as array expressions instead of loops with if-elifelse branches\n",
    "\n",
    "• Group-wise data manipulations (aggregation, transformation, function application)"
   ]
  },
  {
   "cell_type": "markdown",
   "metadata": {},
   "source": [
    "## Topic 1: The NumPy ndarray: A Multidimensional Array Object\n",
    "\n",
    "An ndarray is a generic multidimensional container for homogeneous data; that is, all of the elements must be the same type. Every array has a shape, a tuple indicating the size of each dimension, and a dtype, an object describing the data type of the array"
   ]
  },
  {
   "cell_type": "markdown",
   "metadata": {},
   "source": [
    "#### Task 1: Creating an nd array"
   ]
  },
  {
   "cell_type": "code",
   "execution_count": 16,
   "metadata": {},
   "outputs": [],
   "source": [
    "import numpy as np\n",
    "one_d=[5,2.7,9,68,23.58]\n",
    "two_d=[[2,5,6,9,8],[8,5,6,5,2]]\n",
    "\n",
    "np_one_d=np.array(one_d)\n",
    "np_two_d=np.array(two_d)\n"
   ]
  },
  {
   "cell_type": "code",
   "execution_count": 14,
   "metadata": {},
   "outputs": [
    {
     "name": "stdout",
     "output_type": "stream",
     "text": [
      "[ 5.    2.7   9.   68.   23.58]\n"
     ]
    }
   ],
   "source": [
    "#One Dimensional array\n",
    "print(np_one_d)"
   ]
  },
  {
   "cell_type": "code",
   "execution_count": 19,
   "metadata": {},
   "outputs": [
    {
     "name": "stdout",
     "output_type": "stream",
     "text": [
      "[[2 5 6 9 8]\n",
      " [8 5 6 5 2]]\n"
     ]
    }
   ],
   "source": [
    "#Two Dimensional array\n",
    "print(np_two_d)"
   ]
  },
  {
   "cell_type": "code",
   "execution_count": 22,
   "metadata": {},
   "outputs": [
    {
     "name": "stdout",
     "output_type": "stream",
     "text": [
      "(5,)\n",
      "(2, 5)\n"
     ]
    }
   ],
   "source": [
    "# No. of rows and columns in an array\n",
    "print(np_one_d.shape)\n",
    "print(np_two_d.shape)"
   ]
  },
  {
   "cell_type": "code",
   "execution_count": 23,
   "metadata": {},
   "outputs": [
    {
     "name": "stdout",
     "output_type": "stream",
     "text": [
      "float64\n",
      "int32\n"
     ]
    }
   ],
   "source": [
    "# type of array \n",
    "print(np_one_d.dtype)\n",
    "print(np_two_d.dtype)"
   ]
  },
  {
   "cell_type": "code",
   "execution_count": 24,
   "metadata": {},
   "outputs": [
    {
     "name": "stdout",
     "output_type": "stream",
     "text": [
      "1\n",
      "2\n"
     ]
    }
   ],
   "source": [
    "# Dimension of array \n",
    "print(np_one_d.ndim)\n",
    "print(np_two_d.ndim)"
   ]
  },
  {
   "cell_type": "markdown",
   "metadata": {},
   "source": [
    "#### Task 2:  zeroed, ones and empty array"
   ]
  },
  {
   "cell_type": "code",
   "execution_count": 27,
   "metadata": {},
   "outputs": [
    {
     "name": "stdout",
     "output_type": "stream",
     "text": [
      "[0. 0. 0. 0. 0.]\n"
     ]
    }
   ],
   "source": [
    "print(np.zeros(5))"
   ]
  },
  {
   "cell_type": "code",
   "execution_count": 30,
   "metadata": {},
   "outputs": [
    {
     "name": "stdout",
     "output_type": "stream",
     "text": [
      "[[0. 0. 0.]\n",
      " [0. 0. 0.]\n",
      " [0. 0. 0.]\n",
      " [0. 0. 0.]\n",
      " [0. 0. 0.]]\n"
     ]
    }
   ],
   "source": [
    "#focus on double paranthesis inside zeros\n",
    "print(np.zeros((5,3)))"
   ]
  },
  {
   "cell_type": "code",
   "execution_count": 34,
   "metadata": {},
   "outputs": [
    {
     "name": "stdout",
     "output_type": "stream",
     "text": [
      "[[0.00000000e+000 0.00000000e+000 0.00000000e+000]\n",
      " [0.00000000e+000 0.00000000e+000 7.05525742e-321]\n",
      " [1.33261336e-311 1.33261336e-311 1.29061685e-306]]\n"
     ]
    }
   ],
   "source": [
    "# Empty creates an array without initializing its values to any particular value.it will return uninitialized garbage\n",
    "\n",
    "print(np.empty((3,3)))"
   ]
  },
  {
   "cell_type": "code",
   "execution_count": null,
   "metadata": {},
   "outputs": [],
   "source": []
  }
 ],
 "metadata": {
  "kernelspec": {
   "display_name": "Python 3",
   "language": "python",
   "name": "python3"
  },
  "language_info": {
   "codemirror_mode": {
    "name": "ipython",
    "version": 3
   },
   "file_extension": ".py",
   "mimetype": "text/x-python",
   "name": "python",
   "nbconvert_exporter": "python",
   "pygments_lexer": "ipython3",
   "version": "3.8.8"
  }
 },
 "nbformat": 4,
 "nbformat_minor": 4
}
