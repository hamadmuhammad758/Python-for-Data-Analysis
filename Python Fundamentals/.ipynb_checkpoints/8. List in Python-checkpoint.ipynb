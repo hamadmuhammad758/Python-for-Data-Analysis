{
 "cells": [
  {
   "cell_type": "markdown",
   "id": "e151b0a6",
   "metadata": {},
   "source": [
    "# 8. List in Python\n",
    "### NoteBook Author: Muhammad Hamad"
   ]
  },
  {
   "cell_type": "markdown",
   "id": "704e990d",
   "metadata": {},
   "source": [
    "List is comma-separated values (items) between square brackets. Important thing about a list is that the items in a list need not be of the same type"
   ]
  },
  {
   "cell_type": "code",
   "execution_count": 20,
   "id": "91dd6981",
   "metadata": {},
   "outputs": [
    {
     "data": {
      "text/plain": [
       "['apple', 2.3, 2]"
      ]
     },
     "execution_count": 20,
     "metadata": {},
     "output_type": "execute_result"
    }
   ],
   "source": [
    "a=['apple',2.3,2]\n",
    "a"
   ]
  },
  {
   "cell_type": "markdown",
   "id": "9ee5d991",
   "metadata": {},
   "source": [
    "## Get item from List"
   ]
  },
  {
   "cell_type": "code",
   "execution_count": 7,
   "id": "1eb5c786",
   "metadata": {},
   "outputs": [
    {
     "data": {
      "text/plain": [
       "'apple'"
      ]
     },
     "execution_count": 7,
     "metadata": {},
     "output_type": "execute_result"
    }
   ],
   "source": [
    "a[0]"
   ]
  },
  {
   "cell_type": "code",
   "execution_count": 8,
   "id": "698ae72b",
   "metadata": {},
   "outputs": [
    {
     "data": {
      "text/plain": [
       "[2.3, 2]"
      ]
     },
     "execution_count": 8,
     "metadata": {},
     "output_type": "execute_result"
    }
   ],
   "source": [
    "a[1:]"
   ]
  },
  {
   "cell_type": "code",
   "execution_count": 10,
   "id": "a3000746",
   "metadata": {},
   "outputs": [
    {
     "data": {
      "text/plain": [
       "['apple', 2.3]"
      ]
     },
     "execution_count": 10,
     "metadata": {},
     "output_type": "execute_result"
    }
   ],
   "source": [
    "a[0:2]"
   ]
  },
  {
   "cell_type": "markdown",
   "id": "3b540e25",
   "metadata": {},
   "source": [
    "## Update List"
   ]
  },
  {
   "cell_type": "code",
   "execution_count": 21,
   "id": "9173b435",
   "metadata": {},
   "outputs": [
    {
     "data": {
      "text/plain": [
       "['apple', 2.3, 'mango']"
      ]
     },
     "execution_count": 21,
     "metadata": {},
     "output_type": "execute_result"
    }
   ],
   "source": [
    "a[2]='mango'\n",
    "a"
   ]
  },
  {
   "cell_type": "code",
   "execution_count": 22,
   "id": "b1a7495f",
   "metadata": {},
   "outputs": [
    {
     "data": {
      "text/plain": [
       "['apple', 2.3, 'mango', 34]"
      ]
     },
     "execution_count": 22,
     "metadata": {},
     "output_type": "execute_result"
    }
   ],
   "source": [
    "a.append(34) # add element to last\n",
    "a"
   ]
  },
  {
   "cell_type": "markdown",
   "id": "0cc125a1",
   "metadata": {},
   "source": [
    "## Delete from List"
   ]
  },
  {
   "cell_type": "code",
   "execution_count": 23,
   "id": "72fbf491",
   "metadata": {},
   "outputs": [
    {
     "data": {
      "text/plain": [
       "['apple', 2.3, 34]"
      ]
     },
     "execution_count": 23,
     "metadata": {},
     "output_type": "execute_result"
    }
   ],
   "source": [
    "del a[2] # second index's element deleted from list\n",
    "a"
   ]
  },
  {
   "cell_type": "markdown",
   "id": "81fc0e6c",
   "metadata": {},
   "source": [
    "## Concatenated Lists"
   ]
  },
  {
   "cell_type": "code",
   "execution_count": 27,
   "id": "0c19a963",
   "metadata": {},
   "outputs": [
    {
     "data": {
      "text/plain": [
       "[1, 2, 3, 'apple', 34, 'mango']"
      ]
     },
     "execution_count": 27,
     "metadata": {},
     "output_type": "execute_result"
    }
   ],
   "source": [
    "[1,2,3]+['apple',34,'mango']"
   ]
  },
  {
   "cell_type": "markdown",
   "id": "59f728e7",
   "metadata": {},
   "source": [
    "## Check if element exist in list"
   ]
  },
  {
   "cell_type": "code",
   "execution_count": 28,
   "id": "8aec3edf",
   "metadata": {},
   "outputs": [
    {
     "data": {
      "text/plain": [
       "True"
      ]
     },
     "execution_count": 28,
     "metadata": {},
     "output_type": "execute_result"
    }
   ],
   "source": [
    "2 in [1,2,3,4]"
   ]
  },
  {
   "cell_type": "markdown",
   "id": "c8e0996c",
   "metadata": {},
   "source": [
    "## Repeat elements in List"
   ]
  },
  {
   "cell_type": "code",
   "execution_count": 30,
   "id": "cb1875c4",
   "metadata": {},
   "outputs": [
    {
     "data": {
      "text/plain": [
       "[2, 3, 4, 2, 3, 4, 2, 3, 4]"
      ]
     },
     "execution_count": 30,
     "metadata": {},
     "output_type": "execute_result"
    }
   ],
   "source": [
    "[2,3,4]*3"
   ]
  },
  {
   "cell_type": "markdown",
   "id": "540f82bb",
   "metadata": {},
   "source": [
    "## Min Max item in list"
   ]
  },
  {
   "cell_type": "code",
   "execution_count": 33,
   "id": "b4449d86",
   "metadata": {},
   "outputs": [
    {
     "name": "stdout",
     "output_type": "stream",
     "text": [
      "4454\n",
      "2\n"
     ]
    }
   ],
   "source": [
    "s=[2,4454,2,3,54,23,23]\n",
    "print(max(s))\n",
    "print(min(s))"
   ]
  },
  {
   "cell_type": "markdown",
   "id": "3ba2bafc",
   "metadata": {},
   "source": [
    "## Count"
   ]
  },
  {
   "cell_type": "code",
   "execution_count": 35,
   "id": "1a8e2a9b",
   "metadata": {},
   "outputs": [
    {
     "data": {
      "text/plain": [
       "2"
      ]
     },
     "execution_count": 35,
     "metadata": {},
     "output_type": "execute_result"
    }
   ],
   "source": [
    "s.count(23)"
   ]
  },
  {
   "cell_type": "markdown",
   "id": "7f6c784f",
   "metadata": {},
   "source": [
    "## Insert at Specified Place"
   ]
  },
  {
   "cell_type": "code",
   "execution_count": 41,
   "id": "e4283716",
   "metadata": {},
   "outputs": [
    {
     "data": {
      "text/plain": [
       "[1, 2, 3, 'new', 5]"
      ]
     },
     "execution_count": 41,
     "metadata": {},
     "output_type": "execute_result"
    }
   ],
   "source": [
    "a=[1,2,3,54,5]\n",
    "a[3]='new'\n",
    "a"
   ]
  },
  {
   "cell_type": "markdown",
   "id": "21a6e700",
   "metadata": {},
   "source": [
    "## Pop"
   ]
  },
  {
   "cell_type": "code",
   "execution_count": 45,
   "id": "4746ea5c",
   "metadata": {},
   "outputs": [
    {
     "name": "stdout",
     "output_type": "stream",
     "text": [
      "16\n"
     ]
    },
    {
     "data": {
      "text/plain": [
       "[12, 13, 14, 15]"
      ]
     },
     "execution_count": 45,
     "metadata": {},
     "output_type": "execute_result"
    }
   ],
   "source": [
    "# return and remove element from last index\n",
    "a=[12,13,14,15,16]\n",
    "print(a.pop())\n",
    "a # after popping"
   ]
  },
  {
   "cell_type": "markdown",
   "id": "aa4da729",
   "metadata": {},
   "source": [
    "## Remove Item from list"
   ]
  },
  {
   "cell_type": "code",
   "execution_count": 46,
   "id": "af6b74c4",
   "metadata": {},
   "outputs": [
    {
     "data": {
      "text/plain": [
       "[12, 13, 14, 16]"
      ]
     },
     "execution_count": 46,
     "metadata": {},
     "output_type": "execute_result"
    }
   ],
   "source": [
    "a=[12,13,14,15,16]\n",
    "a.remove(15)\n",
    "a"
   ]
  },
  {
   "cell_type": "markdown",
   "id": "9c1fcddc",
   "metadata": {},
   "source": [
    "## Sorting"
   ]
  },
  {
   "cell_type": "code",
   "execution_count": 50,
   "id": "58501096",
   "metadata": {},
   "outputs": [
    {
     "data": {
      "text/plain": [
       "[1, 2, 3, 4, 5]"
      ]
     },
     "execution_count": 50,
     "metadata": {},
     "output_type": "execute_result"
    }
   ],
   "source": [
    "a=[5,4,3,2,1]\n",
    "a.sort() # returns nothing but sort in original array\n",
    "a"
   ]
  },
  {
   "cell_type": "code",
   "execution_count": null,
   "id": "a0671cd0",
   "metadata": {},
   "outputs": [],
   "source": []
  }
 ],
 "metadata": {
  "kernelspec": {
   "display_name": "Python 3",
   "language": "python",
   "name": "python3"
  },
  "language_info": {
   "codemirror_mode": {
    "name": "ipython",
    "version": 3
   },
   "file_extension": ".py",
   "mimetype": "text/x-python",
   "name": "python",
   "nbconvert_exporter": "python",
   "pygments_lexer": "ipython3",
   "version": "3.8.8"
  }
 },
 "nbformat": 4,
 "nbformat_minor": 5
}
