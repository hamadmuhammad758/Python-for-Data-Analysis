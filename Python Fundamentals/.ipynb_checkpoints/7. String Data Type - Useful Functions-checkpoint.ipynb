{
 "cells": [
  {
   "cell_type": "markdown",
   "id": "c4c1dcea",
   "metadata": {},
   "source": [
    "# 7. String Data Type - Useful Functions\n",
    "### NoteBook Author: Muhammad Hamad"
   ]
  },
  {
   "cell_type": "markdown",
   "id": "84f887f2",
   "metadata": {},
   "source": [
    "### Task: Accessing Values in Strings"
   ]
  },
  {
   "cell_type": "code",
   "execution_count": 7,
   "id": "ea7fb7d0",
   "metadata": {},
   "outputs": [
    {
     "name": "stdout",
     "output_type": "stream",
     "text": [
      "a[3]  l\n",
      "a[6:]  Python\n",
      "a[-1:-3]  ho\n"
     ]
    }
   ],
   "source": [
    "a=\"Hello Python\"\n",
    "print(\"a[3] \",a[3]) # access by index\n",
    "print(\"a[6:] \",a[6:]) # a[start:end] subslice of string\n",
    "print(\"a[-1:-3] \",a[-3:-1]) # negative indexing string , -1 represents last element of string"
   ]
  },
  {
   "cell_type": "markdown",
   "id": "efb0de4f",
   "metadata": {},
   "source": [
    "### Task: Membership Operator"
   ]
  },
  {
   "cell_type": "code",
   "execution_count": 12,
   "id": "29c12b3d",
   "metadata": {},
   "outputs": [
    {
     "data": {
      "text/plain": [
       "True"
      ]
     },
     "execution_count": 12,
     "metadata": {},
     "output_type": "execute_result"
    }
   ],
   "source": [
    "a=\"hello i am python\"\n",
    "\"am\" in a # am exist in above string"
   ]
  },
  {
   "cell_type": "markdown",
   "id": "7f14e07d",
   "metadata": {},
   "source": [
    "### Task: String Formatting Operator"
   ]
  },
  {
   "cell_type": "code",
   "execution_count": 19,
   "id": "4df3aee8",
   "metadata": {},
   "outputs": [
    {
     "name": "stdout",
     "output_type": "stream",
     "text": [
      "My name is hamad and i am 28 years old\n"
     ]
    }
   ],
   "source": [
    "print(\"My name is %s and i am %d years old\"%(\"hamad\",28)) \n",
    "# %s string replacememnt, %d integer replacement, After % provide values required"
   ]
  },
  {
   "cell_type": "markdown",
   "id": "03b68dec",
   "metadata": {},
   "source": [
    "### Task: Triple Quotes\n",
    "Python's triple quotes comes to the rescue by allowing strings to span multiple lines, including verbatim NEWLINEs, TABs, and any other special characters"
   ]
  },
  {
   "cell_type": "code",
   "execution_count": 21,
   "id": "6a64d61e",
   "metadata": {},
   "outputs": [
    {
     "name": "stdout",
     "output_type": "stream",
     "text": [
      "This is multi Line Text :  Lorem Ipsum is simply dummy text of the printing and typesetting industry.\n",
      "Lorem Ipsum has been the industry's standard dummy text ever since the 1500s,\n",
      "when an unknown printer took a galley of type and scrambled it to make a type specimen book. \n",
      "It has survived not only five centuries, but also the leap into electronic typesetting, remaining essentially \n",
      "unchanged. It was popularised in the 1960s with the release of Letraset sheets containing Lorem Ipsum passages, \n",
      "and more recently with desktop publishing software like Aldus PageMaker including versions of Lorem Ipsum.\n"
     ]
    }
   ],
   "source": [
    "s='''Lorem Ipsum is simply dummy text of the printing and typesetting industry.\n",
    "Lorem Ipsum has been the industry's standard dummy text ever since the 1500s,\n",
    "when an unknown printer took a galley of type and scrambled it to make a type specimen book. \n",
    "It has survived not only five centuries, but also the leap into electronic typesetting, remaining essentially \n",
    "unchanged. It was popularised in the 1960s with the release of Letraset sheets containing Lorem Ipsum passages, \n",
    "and more recently with desktop publishing software like Aldus PageMaker including versions of Lorem Ipsum.'''\n",
    "\n",
    "print(\"This is multi Line Text : \", s)"
   ]
  },
  {
   "cell_type": "markdown",
   "id": "edc18d2e",
   "metadata": {},
   "source": [
    "### Task: Raw Strings"
   ]
  },
  {
   "cell_type": "code",
   "execution_count": 26,
   "id": "b616e47a",
   "metadata": {},
   "outputs": [
    {
     "data": {
      "text/plain": [
       "'c:\\\\\\\\file1.jpg'"
      ]
     },
     "execution_count": 26,
     "metadata": {},
     "output_type": "execute_result"
    }
   ],
   "source": [
    "s=r\"c:\\\\file1.jpg\"\n",
    "s"
   ]
  },
  {
   "cell_type": "markdown",
   "id": "dba04a27",
   "metadata": {},
   "source": [
    "### Task: String Functions "
   ]
  },
  {
   "cell_type": "code",
   "execution_count": 35,
   "id": "efa28b1d",
   "metadata": {},
   "outputs": [
    {
     "name": "stdout",
     "output_type": "stream",
     "text": [
      "Length of string:  18\n",
      "I am from pakistan\n"
     ]
    }
   ],
   "source": [
    "a=\"i am from Pakistan\"\n",
    "print(\"Length of string: \",len(a))\n",
    "print(a.capitalize()) # capitalize first letter of string"
   ]
  },
  {
   "cell_type": "code",
   "execution_count": 34,
   "id": "5bf891aa",
   "metadata": {},
   "outputs": [
    {
     "name": "stdout",
     "output_type": "stream",
     "text": [
      "***********i am from Pakistan***********\n"
     ]
    }
   ],
   "source": [
    "print(a.center(40,'*')) # Change total string length to 40 and pad '*' around original string"
   ]
  },
  {
   "cell_type": "code",
   "execution_count": 37,
   "id": "aec701d4",
   "metadata": {},
   "outputs": [
    {
     "name": "stdout",
     "output_type": "stream",
     "text": [
      "2\n"
     ]
    }
   ],
   "source": [
    "print(a.count('m',0,len(a))) # count 'm' in string a from start to end of string"
   ]
  },
  {
   "cell_type": "code",
   "execution_count": 49,
   "id": "d863ae13",
   "metadata": {},
   "outputs": [
    {
     "name": "stdout",
     "output_type": "stream",
     "text": [
      "Encoded:  b'RXhhbXBsZSBvZiBlbmNvZGluZw=='\n",
      "Decoded:  b'Example of encoding'\n"
     ]
    }
   ],
   "source": [
    "import base64\n",
    "Str = \"Example of encoding\";  \n",
    "encoded= base64.b64encode(bytes(Str,'utf-8'))# encode string to base64 \n",
    "print('Encoded: ',encoded)\n",
    "decoded=base64.b64decode(encoded) # Decode string to base64 \n",
    "print('Decoded: ',decoded)"
   ]
  },
  {
   "cell_type": "code",
   "execution_count": 52,
   "id": "41d94765",
   "metadata": {},
   "outputs": [
    {
     "data": {
      "text/plain": [
       "True"
      ]
     },
     "execution_count": 52,
     "metadata": {},
     "output_type": "execute_result"
    }
   ],
   "source": [
    "str=\"I am in Pakistan\"\n",
    "str.endswith('Pakistan') # checks if string ends with provided substring"
   ]
  },
  {
   "cell_type": "code",
   "execution_count": 103,
   "id": "226f4326",
   "metadata": {},
   "outputs": [
    {
     "data": {
      "text/plain": [
       "False"
      ]
     },
     "execution_count": 103,
     "metadata": {},
     "output_type": "execute_result"
    }
   ],
   "source": [
    "str=\"I am in Pakistan\"\n",
    "str.startswith('i') # checks if string starts with provided substring, Case Sensitive"
   ]
  },
  {
   "cell_type": "code",
   "execution_count": 56,
   "id": "f3a6107e",
   "metadata": {},
   "outputs": [
    {
     "data": {
      "text/plain": [
       "2"
      ]
     },
     "execution_count": 56,
     "metadata": {},
     "output_type": "execute_result"
    }
   ],
   "source": [
    "str=\"I am in Pakistan\"\n",
    "str.find('am') # checks and provides index of 'am' in string and returns -1 if substring not found"
   ]
  },
  {
   "cell_type": "code",
   "execution_count": 58,
   "id": "efb3f00e",
   "metadata": {},
   "outputs": [
    {
     "data": {
      "text/plain": [
       "False"
      ]
     },
     "execution_count": 58,
     "metadata": {},
     "output_type": "execute_result"
    }
   ],
   "source": [
    "str=\"this is 70 and $\"\n",
    "str.isalnum() # checks if string is alpha numeric"
   ]
  },
  {
   "cell_type": "code",
   "execution_count": 62,
   "id": "de499373",
   "metadata": {},
   "outputs": [
    {
     "data": {
      "text/plain": [
       "True"
      ]
     },
     "execution_count": 62,
     "metadata": {},
     "output_type": "execute_result"
    }
   ],
   "source": [
    "str=\"thisis70\"\n",
    "str.isalnum() # checks if string is alpha numeric , spaces are also considerd as non alpha numeric"
   ]
  },
  {
   "cell_type": "code",
   "execution_count": 66,
   "id": "fc7b01dc",
   "metadata": {},
   "outputs": [
    {
     "data": {
      "text/plain": [
       "False"
      ]
     },
     "execution_count": 66,
     "metadata": {},
     "output_type": "execute_result"
    }
   ],
   "source": [
    "str=\"12455323python\"\n",
    "str.isnumeric() # string should only contains digits"
   ]
  },
  {
   "cell_type": "code",
   "execution_count": 67,
   "id": "e1a7c09c",
   "metadata": {},
   "outputs": [
    {
     "data": {
      "text/plain": [
       "True"
      ]
     },
     "execution_count": 67,
     "metadata": {},
     "output_type": "execute_result"
    }
   ],
   "source": [
    "str=\"12455323\"\n",
    "str.isnumeric() # string should only contains digits"
   ]
  },
  {
   "cell_type": "code",
   "execution_count": 69,
   "id": "5197a797",
   "metadata": {},
   "outputs": [
    {
     "data": {
      "text/plain": [
       "'hello ** from ** python'"
      ]
     },
     "execution_count": 69,
     "metadata": {},
     "output_type": "execute_result"
    }
   ],
   "source": [
    "# join a sequence of elements based on delimtter\n",
    "d=' ** '\n",
    "d.join(('hello','from','python'))"
   ]
  },
  {
   "cell_type": "code",
   "execution_count": 70,
   "id": "6edad5ed",
   "metadata": {},
   "outputs": [
    {
     "data": {
      "text/plain": [
       "'hello ** from ** python'"
      ]
     },
     "execution_count": 70,
     "metadata": {},
     "output_type": "execute_result"
    }
   ],
   "source": [
    "d=' ** '\n",
    "d.join(['hello','from','python'])"
   ]
  },
  {
   "cell_type": "code",
   "execution_count": 71,
   "id": "b2251bc2",
   "metadata": {},
   "outputs": [
    {
     "data": {
      "text/plain": [
       "str"
      ]
     },
     "execution_count": 71,
     "metadata": {},
     "output_type": "execute_result"
    }
   ],
   "source": [
    "d=' ** '\n",
    "type(d.join(['hello','from','python']))"
   ]
  },
  {
   "cell_type": "code",
   "execution_count": 73,
   "id": "1a0c06ae",
   "metadata": {},
   "outputs": [
    {
     "data": {
      "text/plain": [
       "'this is pakistan'"
      ]
     },
     "execution_count": 73,
     "metadata": {},
     "output_type": "execute_result"
    }
   ],
   "source": [
    "# converts string to lower case\n",
    "a=\"THIS IS PAKISTAN\"\n",
    "a.lower()"
   ]
  },
  {
   "cell_type": "code",
   "execution_count": 75,
   "id": "a4ccc4eb",
   "metadata": {},
   "outputs": [
    {
     "data": {
      "text/plain": [
       "'THIS IS PAKISTAN'"
      ]
     },
     "execution_count": 75,
     "metadata": {},
     "output_type": "execute_result"
    }
   ],
   "source": [
    "# converts string to upper case\n",
    "a=\"this is pakistan\"\n",
    "a.upper()"
   ]
  },
  {
   "cell_type": "code",
   "execution_count": 104,
   "id": "1292c33b",
   "metadata": {},
   "outputs": [
    {
     "data": {
      "text/plain": [
       "'THIS IS PAKISTAN'"
      ]
     },
     "execution_count": 104,
     "metadata": {},
     "output_type": "execute_result"
    }
   ],
   "source": [
    "# swap case of string\n",
    "a=\"this is pakistan\"\n",
    "a.swapcase()"
   ]
  },
  {
   "cell_type": "code",
   "execution_count": 79,
   "id": "4459b0e4",
   "metadata": {},
   "outputs": [
    {
     "data": {
      "text/plain": [
       "'string has extra chracters'"
      ]
     },
     "execution_count": 79,
     "metadata": {},
     "output_type": "execute_result"
    }
   ],
   "source": [
    "a=\"***string has extra chracters*******\"\n",
    "a.strip('*') # a.lstrip, a.rstrip "
   ]
  },
  {
   "cell_type": "code",
   "execution_count": 85,
   "id": "abaffcc0",
   "metadata": {},
   "outputs": [
    {
     "data": {
      "text/plain": [
       "'This is 1n 5xmpl5 string to 45monstr1t5 m1k5tr1ns fun3tion'"
      ]
     },
     "execution_count": 85,
     "metadata": {},
     "output_type": "execute_result"
    }
   ],
   "source": [
    "intab='12345'\n",
    "outtab='abcde'\n",
    "transtab=str.maketrans(outtab,intab) # map chracter from intab with outab\n",
    "\n",
    "s=\"This is an exmple string to demonstrate maketrans function\"\n",
    "\n",
    "s.translate(transtab) # replace chracters in string with chracter map"
   ]
  },
  {
   "cell_type": "code",
   "execution_count": 92,
   "id": "e18bf2ab",
   "metadata": {},
   "outputs": [
    {
     "data": {
      "text/plain": [
       "'i contain grapes mango and then again grapes mango and this apple would not be replaced because 2 apples are already replaced'"
      ]
     },
     "execution_count": 92,
     "metadata": {},
     "output_type": "execute_result"
    }
   ],
   "source": [
    "# Replace substring in string\n",
    "s=\"i contain apple mango and then again apple mango and this apple would not be replaced because 2 apples are already replaced\"\n",
    "s.replace('apple','grapes',2) # replace 1st 2 occurences of apple with grapes\n"
   ]
  },
  {
   "cell_type": "code",
   "execution_count": 95,
   "id": "fa8cf4c5",
   "metadata": {},
   "outputs": [
    {
     "name": "stdout",
     "output_type": "stream",
     "text": [
      "['i', 'am', 'from', 'Pakistan']\n"
     ]
    }
   ],
   "source": [
    "# Split String based on delimitter\n",
    "s='i*am*from*Pakistan'\n",
    "s.split('*')"
   ]
  },
  {
   "cell_type": "code",
   "execution_count": 96,
   "id": "bbff0787",
   "metadata": {},
   "outputs": [
    {
     "data": {
      "text/plain": [
       "['i', 'am', 'from*Pakistan']"
      ]
     },
     "execution_count": 96,
     "metadata": {},
     "output_type": "execute_result"
    }
   ],
   "source": [
    "s='i*am*from*Pakistan'\n",
    "s.split('*',2) # specify number of partitions required"
   ]
  },
  {
   "cell_type": "code",
   "execution_count": 100,
   "id": "49991e65",
   "metadata": {},
   "outputs": [
    {
     "data": {
      "text/plain": [
       "['first line.', ' second line.', ' third line']"
      ]
     },
     "execution_count": 100,
     "metadata": {},
     "output_type": "execute_result"
    }
   ],
   "source": [
    "# split lines of text\n",
    "s='first line.\\n second line.\\n third line'\n",
    "s.splitlines()"
   ]
  },
  {
   "cell_type": "code",
   "execution_count": 107,
   "id": "51c872c7",
   "metadata": {},
   "outputs": [
    {
     "name": "stdout",
     "output_type": "stream",
     "text": [
      "a:  0000000000000000000000000000000 i am from pakistan\n",
      "s:  00000000000000000000000000000000000000000000 a car\n",
      "d:  00000000000 These are python fundamentals lectures\n"
     ]
    }
   ],
   "source": [
    "# zfill padd 0 to left\n",
    "\n",
    "a=' i am from pakistan'\n",
    "s=' a car'\n",
    "d=' These are python fundamentals lectures'\n",
    "print('a: ',a.zfill(50))\n",
    "print('s: ',s.zfill(50))\n",
    "print('d: ',d.zfill(50))"
   ]
  },
  {
   "cell_type": "code",
   "execution_count": null,
   "id": "7974dfcf",
   "metadata": {},
   "outputs": [],
   "source": []
  }
 ],
 "metadata": {
  "kernelspec": {
   "display_name": "Python 3",
   "language": "python",
   "name": "python3"
  },
  "language_info": {
   "codemirror_mode": {
    "name": "ipython",
    "version": 3
   },
   "file_extension": ".py",
   "mimetype": "text/x-python",
   "name": "python",
   "nbconvert_exporter": "python",
   "pygments_lexer": "ipython3",
   "version": "3.8.8"
  }
 },
 "nbformat": 4,
 "nbformat_minor": 5
}
