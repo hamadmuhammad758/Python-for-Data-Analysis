{
 "cells": [
  {
   "cell_type": "markdown",
   "id": "f111c496",
   "metadata": {},
   "source": [
    "# 5.  Loops in Python\n",
    "## Book : Tutorial Point \n",
    "### NoteBook Author: Muhammad Hamad"
   ]
  },
  {
   "cell_type": "markdown",
   "id": "d5813c10",
   "metadata": {},
   "source": [
    "> Loops are required when you need to execute a block of code several number of times"
   ]
  },
  {
   "cell_type": "markdown",
   "id": "e73628d5",
   "metadata": {},
   "source": [
    "### Task : While Loops\n",
    "A while loop statement in Python programming language repeatedly executes a target statement as long as a given condition is true, the syntax is \n",
    "```\n",
    "    while(condition):\n",
    "        statment(s)\n",
    "```"
   ]
  },
  {
   "cell_type": "code",
   "execution_count": 9,
   "id": "c88c501e",
   "metadata": {},
   "outputs": [
    {
     "name": "stdout",
     "output_type": "stream",
     "text": [
      "Value of a is  5\n",
      "Value of a is  4\n",
      "Value of a is  3\n",
      "Value of a is  2\n",
      "Value of a is  1\n"
     ]
    }
   ],
   "source": [
    "a=5\n",
    "while(a>0):\n",
    "    print(\"Value of a is \",a)\n",
    "    a-=1 \n",
    "# value would be decreased on every iteration, if the value of a would not be decresead then condition a>0 would never be false\n",
    "# Thus the loop will run for infinite amount of time(infinite loop)"
   ]
  },
  {
   "cell_type": "markdown",
   "id": "21449853",
   "metadata": {},
   "source": [
    "### Task: Using else with loops\n",
    "\n",
    "Python supports having an else statement associated with a loop statement.\n",
    "\n",
    "1. If the else statement is used with a for loop, the else statement is executed when the loop has exhausted iterating the list.\n",
    "2. If the else statement is used with a while loop, the else statement is executed when the condition becomes false"
   ]
  },
  {
   "cell_type": "code",
   "execution_count": 12,
   "id": "b9e06774",
   "metadata": {},
   "outputs": [
    {
     "name": "stdout",
     "output_type": "stream",
     "text": [
      "Value of a is  2\n",
      "Value of a is  1\n",
      "Else is running because while condition in this iteration is false\n"
     ]
    }
   ],
   "source": [
    "a=2\n",
    "while(a>0):\n",
    "    print(\"Value of a is \",a)\n",
    "    a-=1 \n",
    "else:\n",
    "    print(\"Else is running because while condition in this iteration is false\")"
   ]
  },
  {
   "cell_type": "code",
   "execution_count": 13,
   "id": "b8f65d52",
   "metadata": {},
   "outputs": [
    {
     "name": "stdout",
     "output_type": "stream",
     "text": [
      "0\n",
      "1\n",
      "2\n",
      "All iterations completed\n"
     ]
    }
   ],
   "source": [
    "for i in range(3):\n",
    "    print(i)\n",
    "else:\n",
    "    print(\"All iterations completed\")"
   ]
  },
  {
   "cell_type": "markdown",
   "id": "a0a10ce3",
   "metadata": {},
   "source": [
    "### Task: Range function"
   ]
  },
  {
   "cell_type": "code",
   "execution_count": 15,
   "id": "a1599739",
   "metadata": {},
   "outputs": [
    {
     "data": {
      "text/plain": [
       "range"
      ]
     },
     "execution_count": 15,
     "metadata": {},
     "output_type": "execute_result"
    }
   ],
   "source": [
    "type(range(5))"
   ]
  },
  {
   "cell_type": "code",
   "execution_count": 16,
   "id": "727b7518",
   "metadata": {},
   "outputs": [
    {
     "data": {
      "text/plain": [
       "range(0, 5)"
      ]
     },
     "execution_count": 16,
     "metadata": {},
     "output_type": "execute_result"
    }
   ],
   "source": [
    "range(5)"
   ]
  },
  {
   "cell_type": "code",
   "execution_count": 17,
   "id": "e3cdabd2",
   "metadata": {},
   "outputs": [
    {
     "data": {
      "text/plain": [
       "[0, 1, 2, 3, 4]"
      ]
     },
     "execution_count": 17,
     "metadata": {},
     "output_type": "execute_result"
    }
   ],
   "source": [
    "list(range(5)) # returns a list of sequence"
   ]
  },
  {
   "cell_type": "code",
   "execution_count": 20,
   "id": "5dc9b1f2",
   "metadata": {},
   "outputs": [
    {
     "data": {
      "text/plain": [
       "[1, 3, 5, 7, 9, 11, 13, 15, 17, 19]"
      ]
     },
     "execution_count": 20,
     "metadata": {},
     "output_type": "execute_result"
    }
   ],
   "source": [
    "list(range(1,20,2))  # returns a sequence starting from 1 till 20 with difference of 2 in each step"
   ]
  },
  {
   "cell_type": "markdown",
   "id": "022b425f",
   "metadata": {},
   "source": [
    "### Task: For Loops"
   ]
  },
  {
   "cell_type": "code",
   "execution_count": 22,
   "id": "d5e84d6e",
   "metadata": {},
   "outputs": [
    {
     "name": "stdout",
     "output_type": "stream",
     "text": [
      "a\n",
      "p\n",
      "p\n",
      "l\n",
      "e\n"
     ]
    }
   ],
   "source": [
    "# iteration in string\n",
    "a='apple'\n",
    "for i in a:\n",
    "    print(i)"
   ]
  },
  {
   "cell_type": "code",
   "execution_count": 27,
   "id": "db3163d9",
   "metadata": {},
   "outputs": [
    {
     "name": "stdout",
     "output_type": "stream",
     "text": [
      "23\n",
      "apple\n",
      "44.55\n"
     ]
    }
   ],
   "source": [
    "# Iterating over a list\n",
    "a=[23,'apple',44.55]\n",
    "for i in a:\n",
    "    print(i)\n",
    "    "
   ]
  },
  {
   "cell_type": "code",
   "execution_count": 28,
   "id": "f4ad1964",
   "metadata": {},
   "outputs": [
    {
     "name": "stdout",
     "output_type": "stream",
     "text": [
      "0\n",
      "1\n",
      "2\n",
      "3\n",
      "4\n"
     ]
    }
   ],
   "source": [
    "# iterating over a sequence\n",
    "for i in range(5):\n",
    "    print(i)"
   ]
  },
  {
   "cell_type": "code",
   "execution_count": 30,
   "id": "78c70fc6",
   "metadata": {},
   "outputs": [
    {
     "name": "stdout",
     "output_type": "stream",
     "text": [
      "0\n",
      "1\n",
      "2\n"
     ]
    }
   ],
   "source": [
    "# Iterating over a sequence index , loop will iterate over total length of list a\n",
    "a=['apple','mango','grapes']\n",
    "for i in range(len(a)):\n",
    "    print(i)"
   ]
  },
  {
   "cell_type": "markdown",
   "id": "48da6686",
   "metadata": {},
   "source": [
    "### Task: Nested Loops: Loop inside loop"
   ]
  },
  {
   "cell_type": "code",
   "execution_count": 34,
   "id": "43825620",
   "metadata": {},
   "outputs": [
    {
     "name": "stdout",
     "output_type": "stream",
     "text": [
      "i: 0    j: 0\n",
      "i: 0    j: 1\n",
      "i: 0    j: 2\n",
      "i: 1    j: 0\n",
      "i: 1    j: 1\n",
      "i: 1    j: 2\n",
      "i: 2    j: 0\n",
      "i: 2    j: 1\n",
      "i: 2    j: 2\n"
     ]
    }
   ],
   "source": [
    "# for each value of 1st loop second loop will execute completely\n",
    "for i in range(3):\n",
    "    for j in range(3):\n",
    "        print(\"i:\",i,\"  \",\"j:\",j)"
   ]
  },
  {
   "cell_type": "markdown",
   "id": "afcf5730",
   "metadata": {},
   "source": [
    "### Task: Loop Control Statements"
   ]
  },
  {
   "cell_type": "markdown",
   "id": "fcdae576",
   "metadata": {},
   "source": [
    "![](images/break.png)"
   ]
  },
  {
   "cell_type": "markdown",
   "id": "422da1ca",
   "metadata": {},
   "source": [
    "##### Break Statement"
   ]
  },
  {
   "cell_type": "code",
   "execution_count": 38,
   "id": "62bc1373",
   "metadata": {},
   "outputs": [
    {
     "name": "stdout",
     "output_type": "stream",
     "text": [
      "Enter Number: 7\n",
      "Number is Prime because it is not divisible by any number samller than it\n"
     ]
    }
   ],
   "source": [
    "# Program to find out prime number\n",
    "\n",
    "num=int(input(\"Enter Number: \")) # input a number from user\n",
    "\n",
    "for i in range (2,num,1): # get a range sequence starting from 2 till the input number\n",
    "    if(num%i==0): # check if number is divided by any number in sequence\n",
    "        print(\"Number is divisible by \",i,\" hence not a prime number.\")\n",
    "        break # if yes, break will stop this iterating loop\n",
    "else:\n",
    "    print(\"Number is Prime because it is not divisible by any number samller than it\") # runs if all iterations are completed successfully"
   ]
  },
  {
   "cell_type": "markdown",
   "id": "d43e3e59",
   "metadata": {},
   "source": [
    "#### Continue Statment"
   ]
  },
  {
   "cell_type": "code",
   "execution_count": 43,
   "id": "55866417",
   "metadata": {},
   "outputs": [
    {
     "name": "stdout",
     "output_type": "stream",
     "text": [
      "8\n"
     ]
    }
   ],
   "source": [
    "# Let's add only even numbers from list\n",
    "a=[2,3,5,1,4,2]\n",
    "sum=0\n",
    "for i in a:\n",
    "    if(i%2!=0):\n",
    "        continue # if number is not even, next statements of loop would not get executed and control would be transffered to next iteration\n",
    "    sum+=i\n",
    "print(sum)"
   ]
  },
  {
   "cell_type": "markdown",
   "id": "d0ee4525",
   "metadata": {},
   "source": [
    "![](images/pass.png)"
   ]
  },
  {
   "cell_type": "code",
   "execution_count": 40,
   "id": "c2e2e5b7",
   "metadata": {},
   "outputs": [],
   "source": [
    "if (True):\n",
    "    pass # statement is required but we dont want to right here anything right now"
   ]
  },
  {
   "cell_type": "code",
   "execution_count": null,
   "id": "a888d207",
   "metadata": {},
   "outputs": [],
   "source": []
  }
 ],
 "metadata": {
  "kernelspec": {
   "display_name": "Python 3",
   "language": "python",
   "name": "python3"
  },
  "language_info": {
   "codemirror_mode": {
    "name": "ipython",
    "version": 3
   },
   "file_extension": ".py",
   "mimetype": "text/x-python",
   "name": "python",
   "nbconvert_exporter": "python",
   "pygments_lexer": "ipython3",
   "version": "3.8.8"
  }
 },
 "nbformat": 4,
 "nbformat_minor": 5
}
