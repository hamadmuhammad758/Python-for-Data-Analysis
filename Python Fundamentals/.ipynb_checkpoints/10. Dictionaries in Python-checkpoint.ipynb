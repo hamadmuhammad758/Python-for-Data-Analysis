{
 "cells": [
  {
   "cell_type": "markdown",
   "id": "1a1e31f1",
   "metadata": {},
   "source": [
    "# 10. Dictionaries in Python\n",
    "### NoteBook Author: Muhammad Hamad"
   ]
  },
  {
   "cell_type": "markdown",
   "id": "32836cea",
   "metadata": {},
   "source": [
    "## Creating a dicitonary : Hash Table"
   ]
  },
  {
   "cell_type": "code",
   "execution_count": 11,
   "id": "5280ee92",
   "metadata": {},
   "outputs": [
    {
     "data": {
      "text/plain": [
       "{'fruit': 'apple', 1: 'number', ('tuple', 1): 20}"
      ]
     },
     "execution_count": 11,
     "metadata": {},
     "output_type": "execute_result"
    }
   ],
   "source": [
    "a={'fruit':'apple',1:'number',('tuple',1):20} # key could be number, string or tuple\n",
    "a"
   ]
  },
  {
   "cell_type": "markdown",
   "id": "02e11098",
   "metadata": {},
   "source": [
    "## Accessing Items from dicitonary"
   ]
  },
  {
   "cell_type": "code",
   "execution_count": 5,
   "id": "16f1786b",
   "metadata": {},
   "outputs": [
    {
     "data": {
      "text/plain": [
       "'apple'"
      ]
     },
     "execution_count": 5,
     "metadata": {},
     "output_type": "execute_result"
    }
   ],
   "source": [
    "a['fruit']"
   ]
  },
  {
   "cell_type": "code",
   "execution_count": 7,
   "id": "8b6d5026",
   "metadata": {},
   "outputs": [
    {
     "data": {
      "text/plain": [
       "20"
      ]
     },
     "execution_count": 7,
     "metadata": {},
     "output_type": "execute_result"
    }
   ],
   "source": [
    "a[('tuple',1)]"
   ]
  },
  {
   "cell_type": "markdown",
   "id": "b159937b",
   "metadata": {},
   "source": [
    "## Updating an item"
   ]
  },
  {
   "cell_type": "code",
   "execution_count": 12,
   "id": "1c81196a",
   "metadata": {},
   "outputs": [
    {
     "name": "stdout",
     "output_type": "stream",
     "text": [
      "{'fruit': 'apple', 1: 'number', ('tuple', 1): 20}\n"
     ]
    },
    {
     "data": {
      "text/plain": [
       "{'fruit': 'mango', 1: 'number', ('tuple', 1): 20}"
      ]
     },
     "execution_count": 12,
     "metadata": {},
     "output_type": "execute_result"
    }
   ],
   "source": [
    "print(a)\n",
    "a['fruit']='mango'\n",
    "a"
   ]
  },
  {
   "cell_type": "markdown",
   "id": "313e9288",
   "metadata": {},
   "source": [
    "## Deletion"
   ]
  },
  {
   "cell_type": "code",
   "execution_count": 13,
   "id": "351a0257",
   "metadata": {},
   "outputs": [
    {
     "data": {
      "text/plain": [
       "{'fruit': 'mango', 1: 'number', ('tuple', 1): 20}"
      ]
     },
     "execution_count": 13,
     "metadata": {},
     "output_type": "execute_result"
    }
   ],
   "source": [
    "a"
   ]
  },
  {
   "cell_type": "code",
   "execution_count": 14,
   "id": "1b54c550",
   "metadata": {},
   "outputs": [
    {
     "data": {
      "text/plain": [
       "{1: 'number', ('tuple', 1): 20}"
      ]
     },
     "execution_count": 14,
     "metadata": {},
     "output_type": "execute_result"
    }
   ],
   "source": [
    "del a['fruit'] # delete by item\n",
    "a"
   ]
  },
  {
   "cell_type": "code",
   "execution_count": 15,
   "id": "ce912f73",
   "metadata": {},
   "outputs": [
    {
     "data": {
      "text/plain": [
       "{}"
      ]
     },
     "execution_count": 15,
     "metadata": {},
     "output_type": "execute_result"
    }
   ],
   "source": [
    "a.clear() # clear all elements of dictionary\n",
    "a # but dictionary is not deleted "
   ]
  },
  {
   "cell_type": "code",
   "execution_count": 17,
   "id": "0d4c90c0",
   "metadata": {},
   "outputs": [
    {
     "ename": "NameError",
     "evalue": "name 'a' is not defined",
     "output_type": "error",
     "traceback": [
      "\u001b[1;31m---------------------------------------------------------------------------\u001b[0m",
      "\u001b[1;31mNameError\u001b[0m                                 Traceback (most recent call last)",
      "\u001b[1;32m<ipython-input-17-8b66ad6920b6>\u001b[0m in \u001b[0;36m<module>\u001b[1;34m\u001b[0m\n\u001b[1;32m----> 1\u001b[1;33m \u001b[1;32mdel\u001b[0m \u001b[0ma\u001b[0m\u001b[1;33m\u001b[0m\u001b[1;33m\u001b[0m\u001b[0m\n\u001b[0m\u001b[0;32m      2\u001b[0m \u001b[0ma\u001b[0m \u001b[1;31m# deleted dictionary\u001b[0m\u001b[1;33m\u001b[0m\u001b[1;33m\u001b[0m\u001b[0m\n",
      "\u001b[1;31mNameError\u001b[0m: name 'a' is not defined"
     ]
    }
   ],
   "source": [
    "del a\n",
    "a # deleted dictionary"
   ]
  },
  {
   "cell_type": "markdown",
   "id": "313cc22c",
   "metadata": {},
   "source": [
    "## Some functions of Dictionaries"
   ]
  },
  {
   "cell_type": "code",
   "execution_count": 21,
   "id": "446fb6ee",
   "metadata": {},
   "outputs": [
    {
     "data": {
      "text/plain": [
       "{'fruit': 'apple', 'number': 1, 'element': 2.3}"
      ]
     },
     "execution_count": 21,
     "metadata": {},
     "output_type": "execute_result"
    }
   ],
   "source": [
    "a={'fruit':'apple','number':1,'element':2.3} #creating a dictionary\n",
    "a"
   ]
  },
  {
   "cell_type": "code",
   "execution_count": 47,
   "id": "29f10cce",
   "metadata": {},
   "outputs": [
    {
     "name": "stdout",
     "output_type": "stream",
     "text": [
      "dict_items([('fruit', 'apple'), ('number', 1), ('element', 2.3)])\n",
      "<class 'dict_items'>\n"
     ]
    }
   ],
   "source": [
    "print(a.items()) # return pairs of dicitonary items\n",
    "print(type(a.items()))"
   ]
  },
  {
   "cell_type": "code",
   "execution_count": 28,
   "id": "a2000c62",
   "metadata": {},
   "outputs": [
    {
     "name": "stdout",
     "output_type": "stream",
     "text": [
      "dict_keys(['fruit', 'number', 'element'])\n"
     ]
    }
   ],
   "source": [
    "print(a.keys()) # returns keys in dictionary"
   ]
  },
  {
   "cell_type": "code",
   "execution_count": 46,
   "id": "f09f8708",
   "metadata": {},
   "outputs": [
    {
     "name": "stdout",
     "output_type": "stream",
     "text": [
      "dict_values(['apple', 1, 2.3])\n"
     ]
    }
   ],
   "source": [
    "print(a.values()) # return values"
   ]
  },
  {
   "cell_type": "code",
   "execution_count": 43,
   "id": "1eb5d303",
   "metadata": {},
   "outputs": [
    {
     "name": "stdout",
     "output_type": "stream",
     "text": [
      "{'fruit': 'apple', 'number': 1, 'element': 2.3}\n",
      "{'fruit': 2, 'number': 2, 'element': 2}\n"
     ]
    }
   ],
   "source": [
    "print(a)\n",
    "b={}\n",
    "b=b.fromkeys(a.keys(),2) # creates anew dictionary using keys of provided dictionary and set value to 2\n",
    "print(b)"
   ]
  },
  {
   "cell_type": "code",
   "execution_count": 45,
   "id": "bf70155f",
   "metadata": {},
   "outputs": [
    {
     "name": "stdout",
     "output_type": "stream",
     "text": [
      "updated dict :  {'Name': 'Zara', 'Age': 7, 'Sex': 'female'}\n"
     ]
    }
   ],
   "source": [
    "#update values of dict1 from elements of dict2\n",
    "\n",
    "dict = {'Name': 'Zara', 'Age': 7}\n",
    "dict2 = {'Sex': 'female' }\n",
    "dict.update(dict2)\n",
    "print (\"updated dict : \", dict)"
   ]
  },
  {
   "cell_type": "code",
   "execution_count": null,
   "id": "aa668ec9",
   "metadata": {},
   "outputs": [],
   "source": []
  }
 ],
 "metadata": {
  "kernelspec": {
   "display_name": "Python 3",
   "language": "python",
   "name": "python3"
  },
  "language_info": {
   "codemirror_mode": {
    "name": "ipython",
    "version": 3
   },
   "file_extension": ".py",
   "mimetype": "text/x-python",
   "name": "python",
   "nbconvert_exporter": "python",
   "pygments_lexer": "ipython3",
   "version": "3.8.8"
  }
 },
 "nbformat": 4,
 "nbformat_minor": 5
}
