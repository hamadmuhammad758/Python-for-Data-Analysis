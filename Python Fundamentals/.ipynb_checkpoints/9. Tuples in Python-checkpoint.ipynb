{
 "cells": [
  {
   "cell_type": "markdown",
   "id": "d674cb7d",
   "metadata": {},
   "source": [
    "# 9. Tuples in Python\n",
    "\n",
    "### NoteBook Author: Muhammad Hamad"
   ]
  },
  {
   "cell_type": "markdown",
   "id": "aab3d823",
   "metadata": {},
   "source": [
    "1. The main difference between the tuples and the lists is that the tuples cannot be changed unlike lists. \n",
    "2. Tuples use parentheses, whereas lists use square brackets."
   ]
  },
  {
   "cell_type": "markdown",
   "id": "37c1022c",
   "metadata": {},
   "source": [
    "## Creating a tuple"
   ]
  },
  {
   "cell_type": "code",
   "execution_count": 2,
   "id": "95e3357e",
   "metadata": {},
   "outputs": [
    {
     "data": {
      "text/plain": [
       "(1, 2, 3, 4, 'apple')"
      ]
     },
     "execution_count": 2,
     "metadata": {},
     "output_type": "execute_result"
    }
   ],
   "source": [
    "t=(1,2,3,4,'apple')\n",
    "t"
   ]
  },
  {
   "cell_type": "code",
   "execution_count": 9,
   "id": "3aacaa84",
   "metadata": {},
   "outputs": [
    {
     "data": {
      "text/plain": [
       "int"
      ]
     },
     "execution_count": 9,
     "metadata": {},
     "output_type": "execute_result"
    }
   ],
   "source": [
    "t=(1) # must use comma after 1st element otherwise it would be treated not as tuple\n",
    "type(t)"
   ]
  },
  {
   "cell_type": "code",
   "execution_count": 11,
   "id": "9495d45d",
   "metadata": {},
   "outputs": [
    {
     "data": {
      "text/plain": [
       "tuple"
      ]
     },
     "execution_count": 11,
     "metadata": {},
     "output_type": "execute_result"
    }
   ],
   "source": [
    "t=(1,) # now treated as tuple\n",
    "type(t)"
   ]
  },
  {
   "cell_type": "markdown",
   "id": "fe2a6608",
   "metadata": {},
   "source": [
    "## Accessing an element - same as list"
   ]
  },
  {
   "cell_type": "code",
   "execution_count": 15,
   "id": "6da063d2",
   "metadata": {},
   "outputs": [
    {
     "data": {
      "text/plain": [
       "(1, 2, 3, 4)"
      ]
     },
     "execution_count": 15,
     "metadata": {},
     "output_type": "execute_result"
    }
   ],
   "source": [
    "t=(1,2,3,4)\n",
    "t"
   ]
  },
  {
   "cell_type": "code",
   "execution_count": 16,
   "id": "678bc041",
   "metadata": {},
   "outputs": [
    {
     "data": {
      "text/plain": [
       "3"
      ]
     },
     "execution_count": 16,
     "metadata": {},
     "output_type": "execute_result"
    }
   ],
   "source": [
    "t[2]"
   ]
  },
  {
   "cell_type": "code",
   "execution_count": 17,
   "id": "a99e33c0",
   "metadata": {},
   "outputs": [
    {
     "data": {
      "text/plain": [
       "(3, 4)"
      ]
     },
     "execution_count": 17,
     "metadata": {},
     "output_type": "execute_result"
    }
   ],
   "source": [
    "t[2:]"
   ]
  },
  {
   "cell_type": "markdown",
   "id": "92702ca2",
   "metadata": {},
   "source": [
    "## Updating a tuple \n",
    "> - Not allowed - tuples are read only"
   ]
  },
  {
   "cell_type": "markdown",
   "id": "42ae914d",
   "metadata": {},
   "source": [
    "## Concatenating a tuple"
   ]
  },
  {
   "cell_type": "code",
   "execution_count": 19,
   "id": "c74e9c98",
   "metadata": {},
   "outputs": [
    {
     "data": {
      "text/plain": [
       "(1, 2, 3, 4)"
      ]
     },
     "execution_count": 19,
     "metadata": {},
     "output_type": "execute_result"
    }
   ],
   "source": [
    "t1=(1,2)\n",
    "t2=(3,4)\n",
    "t3=t1+t2 # creating a new tuple\n",
    "t3"
   ]
  },
  {
   "cell_type": "markdown",
   "id": "567fbec0",
   "metadata": {},
   "source": [
    "## Removing tuple\n",
    "> Removing individual elements from tuple is not allowed"
   ]
  },
  {
   "cell_type": "code",
   "execution_count": 20,
   "id": "b31f7f2f",
   "metadata": {},
   "outputs": [
    {
     "data": {
      "text/plain": [
       "(1, 2, 3, 4)"
      ]
     },
     "execution_count": 20,
     "metadata": {},
     "output_type": "execute_result"
    }
   ],
   "source": [
    "t"
   ]
  },
  {
   "cell_type": "code",
   "execution_count": 21,
   "id": "73433286",
   "metadata": {},
   "outputs": [
    {
     "ename": "TypeError",
     "evalue": "'tuple' object doesn't support item deletion",
     "output_type": "error",
     "traceback": [
      "\u001b[1;31m---------------------------------------------------------------------------\u001b[0m",
      "\u001b[1;31mTypeError\u001b[0m                                 Traceback (most recent call last)",
      "\u001b[1;32m<ipython-input-21-77cea8bc7ee1>\u001b[0m in \u001b[0;36m<module>\u001b[1;34m\u001b[0m\n\u001b[1;32m----> 1\u001b[1;33m \u001b[1;32mdel\u001b[0m \u001b[0mt\u001b[0m\u001b[1;33m[\u001b[0m\u001b[1;36m1\u001b[0m\u001b[1;33m]\u001b[0m\u001b[1;33m\u001b[0m\u001b[1;33m\u001b[0m\u001b[0m\n\u001b[0m",
      "\u001b[1;31mTypeError\u001b[0m: 'tuple' object doesn't support item deletion"
     ]
    }
   ],
   "source": [
    "del t[1]"
   ]
  },
  {
   "cell_type": "code",
   "execution_count": 22,
   "id": "dbb840ef",
   "metadata": {},
   "outputs": [],
   "source": [
    "del t"
   ]
  },
  {
   "cell_type": "code",
   "execution_count": 24,
   "id": "f6350ac5",
   "metadata": {},
   "outputs": [
    {
     "ename": "NameError",
     "evalue": "name 't' is not defined",
     "output_type": "error",
     "traceback": [
      "\u001b[1;31m---------------------------------------------------------------------------\u001b[0m",
      "\u001b[1;31mNameError\u001b[0m                                 Traceback (most recent call last)",
      "\u001b[1;32m<ipython-input-24-5ca5101a74df>\u001b[0m in \u001b[0;36m<module>\u001b[1;34m\u001b[0m\n\u001b[1;32m----> 1\u001b[1;33m \u001b[0mt\u001b[0m \u001b[1;31m# after tuple deletion\u001b[0m\u001b[1;33m\u001b[0m\u001b[1;33m\u001b[0m\u001b[0m\n\u001b[0m",
      "\u001b[1;31mNameError\u001b[0m: name 't' is not defined"
     ]
    }
   ],
   "source": [
    "t # after tuple deletion"
   ]
  },
  {
   "cell_type": "markdown",
   "id": "b8099ff1",
   "metadata": {},
   "source": [
    "## Most of the function in list and tuple are same so would not be discussed again here, see my lecture lists in python"
   ]
  },
  {
   "cell_type": "code",
   "execution_count": null,
   "id": "efd8b08e",
   "metadata": {},
   "outputs": [],
   "source": []
  }
 ],
 "metadata": {
  "kernelspec": {
   "display_name": "Python 3",
   "language": "python",
   "name": "python3"
  },
  "language_info": {
   "codemirror_mode": {
    "name": "ipython",
    "version": 3
   },
   "file_extension": ".py",
   "mimetype": "text/x-python",
   "name": "python",
   "nbconvert_exporter": "python",
   "pygments_lexer": "ipython3",
   "version": "3.8.8"
  }
 },
 "nbformat": 4,
 "nbformat_minor": 5
}
