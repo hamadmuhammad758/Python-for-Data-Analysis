{
 "cells": [
  {
   "cell_type": "markdown",
   "id": "7c99ce87",
   "metadata": {},
   "source": [
    "# 2. Variables and Data Types in Python\n",
    "### NoteBook Author: Muhammad Hamad"
   ]
  },
  {
   "cell_type": "markdown",
   "id": "a0783581",
   "metadata": {},
   "source": [
    "Variables are nothing but reserved memory locations to store values. It means that when you create a variable, you reserve some space in the memory. In python, Based on the data type of a variable, the interpreter allocates memory and decides what\n",
    "can be stored in the reserved memory"
   ]
  },
  {
   "cell_type": "markdown",
   "id": "9cb0dc5f",
   "metadata": {},
   "source": [
    "### Task 1:  Create Some Variables"
   ]
  },
  {
   "cell_type": "code",
   "execution_count": 1,
   "id": "5ca32fec",
   "metadata": {},
   "outputs": [
    {
     "name": "stdout",
     "output_type": "stream",
     "text": [
      "1 <class 'int'>\n",
      "apple <class 'str'>\n",
      "2.3 <class 'float'>\n"
     ]
    }
   ],
   "source": [
    "a=1 # integer variable\n",
    "b='apple' # string variable\n",
    "c=2.3 # float\n",
    "\n",
    "print(a,type(a))\n",
    "print(b,type(b))\n",
    "print(c,type(c))"
   ]
  },
  {
   "cell_type": "markdown",
   "id": "aaf83d1f",
   "metadata": {},
   "source": [
    "### Task 2: MultipleAssignment"
   ]
  },
  {
   "cell_type": "code",
   "execution_count": 3,
   "id": "4bd207dd",
   "metadata": {},
   "outputs": [
    {
     "name": "stdout",
     "output_type": "stream",
     "text": [
      "3 3 3\n"
     ]
    }
   ],
   "source": [
    "a=b=c= 3\n",
    "# a,b and c all points to same memory location\n",
    "print(a,b,c)"
   ]
  },
  {
   "cell_type": "code",
   "execution_count": 5,
   "id": "66152dda",
   "metadata": {},
   "outputs": [
    {
     "name": "stdout",
     "output_type": "stream",
     "text": [
      "1 2 ali\n"
     ]
    }
   ],
   "source": [
    "a,b,c = 1,2,'ali'\n",
    "print(a,b,c)"
   ]
  },
  {
   "cell_type": "markdown",
   "id": "c294cdb6",
   "metadata": {},
   "source": [
    "##### Note: Python has five standard data types-\n",
    "1.  Numbers\n",
    "2.  String\n",
    "3.  List\n",
    "4.  Tuple\n",
    "5.  Dictionary"
   ]
  },
  {
   "cell_type": "markdown",
   "id": "ae39ecd2",
   "metadata": {},
   "source": [
    "### Task 3: Numbers"
   ]
  },
  {
   "cell_type": "code",
   "execution_count": 12,
   "id": "7bcf9254",
   "metadata": {},
   "outputs": [
    {
     "name": "stdout",
     "output_type": "stream",
     "text": [
      "Before Deletion:  2\n"
     ]
    },
    {
     "ename": "NameError",
     "evalue": "name 'a' is not defined",
     "output_type": "error",
     "traceback": [
      "\u001b[1;31m---------------------------------------------------------------------------\u001b[0m",
      "\u001b[1;31mNameError\u001b[0m                                 Traceback (most recent call last)",
      "\u001b[1;32m<ipython-input-12-60b9bfb6911f>\u001b[0m in \u001b[0;36m<module>\u001b[1;34m\u001b[0m\n\u001b[0;32m      2\u001b[0m \u001b[0mprint\u001b[0m\u001b[1;33m(\u001b[0m\u001b[1;34m\"Before Deletion: \"\u001b[0m\u001b[1;33m,\u001b[0m \u001b[0ma\u001b[0m\u001b[1;33m)\u001b[0m\u001b[1;33m\u001b[0m\u001b[1;33m\u001b[0m\u001b[0m\n\u001b[0;32m      3\u001b[0m \u001b[1;32mdel\u001b[0m \u001b[0ma\u001b[0m\u001b[1;33m\u001b[0m\u001b[1;33m\u001b[0m\u001b[0m\n\u001b[1;32m----> 4\u001b[1;33m \u001b[0mprint\u001b[0m \u001b[1;33m(\u001b[0m\u001b[1;34m\"After Deletion: \"\u001b[0m\u001b[1;33m,\u001b[0m \u001b[0ma\u001b[0m\u001b[1;33m)\u001b[0m \u001b[1;31m# variable deleted so will get an error\u001b[0m\u001b[1;33m\u001b[0m\u001b[1;33m\u001b[0m\u001b[0m\n\u001b[0m",
      "\u001b[1;31mNameError\u001b[0m: name 'a' is not defined"
     ]
    }
   ],
   "source": [
    "a=2\n",
    "print(\"Before Deletion: \", a)\n",
    "del a\n",
    "print (\"After Deletion: \", a) # variable deleted so will get an error"
   ]
  },
  {
   "cell_type": "markdown",
   "id": "a9104d34",
   "metadata": {},
   "source": [
    "#### Python supports three different numerical types −\n",
    "1. int (signed integers),  -786\n",
    "2. float (floating point real values),   15.20\n",
    "3. complex (complex numbers),  3e+26J\n",
    "\n",
    "> A complex number consists of an ordered pair of real floating-point numbers denoted by x + yj, where x and y are real numbers and j is the imaginary unit."
   ]
  },
  {
   "cell_type": "markdown",
   "id": "af78592b",
   "metadata": {},
   "source": [
    "### Task 4: Python Strings\n",
    "Strings in Python are identified as a contiguous set of characters represented in the quotation marks."
   ]
  },
  {
   "cell_type": "code",
   "execution_count": 14,
   "id": "f2043ecf",
   "metadata": {},
   "outputs": [
    {
     "name": "stdout",
     "output_type": "stream",
     "text": [
      "apple clock\n"
     ]
    }
   ],
   "source": [
    "#single and double quotes doesn't matter\n",
    "s1 = 'apple'\n",
    "s2 = \"clock\"\n",
    "print(s1,s2)"
   ]
  },
  {
   "cell_type": "code",
   "execution_count": 16,
   "id": "3b55a28b",
   "metadata": {},
   "outputs": [
    {
     "name": "stdout",
     "output_type": "stream",
     "text": [
      "pp ple\n"
     ]
    }
   ],
   "source": [
    "# strings slicing\n",
    "s3 = s1[1:3]\n",
    "s4 = s1[2:]\n",
    "print(s3,s4)"
   ]
  },
  {
   "cell_type": "code",
   "execution_count": 17,
   "id": "90cfb2a3",
   "metadata": {},
   "outputs": [
    {
     "data": {
      "text/plain": [
       "'abcdef'"
      ]
     },
     "execution_count": 17,
     "metadata": {},
     "output_type": "execute_result"
    }
   ],
   "source": [
    "'abc'+'def' # concatenation"
   ]
  },
  {
   "cell_type": "code",
   "execution_count": 19,
   "id": "0a88a50c",
   "metadata": {},
   "outputs": [
    {
     "data": {
      "text/plain": [
       "'ababab'"
      ]
     },
     "execution_count": 19,
     "metadata": {},
     "output_type": "execute_result"
    }
   ],
   "source": [
    "'ab'*3 # repeats string 3 times"
   ]
  },
  {
   "cell_type": "markdown",
   "id": "ed27b790",
   "metadata": {},
   "source": [
    "### Task 5: Python Lists\n",
    "They are like arrays in C language, but may contain elements of different data types"
   ]
  },
  {
   "cell_type": "code",
   "execution_count": 45,
   "id": "cf579263",
   "metadata": {},
   "outputs": [
    {
     "name": "stdout",
     "output_type": "stream",
     "text": [
      "['apple', '1', 2.3] [4, 7, '2', 'Grapes']\n"
     ]
    }
   ],
   "source": [
    "# creating 2 lists using squre brackets\n",
    "l1=['apple','1',2.3]\n",
    "l2=[4,7,'2','Grapes']\n",
    "\n",
    "print(l1,l2)\n"
   ]
  },
  {
   "cell_type": "code",
   "execution_count": 27,
   "id": "4f109149",
   "metadata": {},
   "outputs": [
    {
     "name": "stdout",
     "output_type": "stream",
     "text": [
      "['apple', '1', 2.3, 4, 7, '2', 'Grapes']\n"
     ]
    }
   ],
   "source": [
    "l3=l1+l2 # list concatenation\n",
    "print(l3)"
   ]
  },
  {
   "cell_type": "code",
   "execution_count": 30,
   "id": "ae3d0e1c",
   "metadata": {},
   "outputs": [
    {
     "data": {
      "text/plain": [
       "['1', 2.3, 4, 7, '2', 'Grapes']"
      ]
     },
     "execution_count": 30,
     "metadata": {},
     "output_type": "execute_result"
    }
   ],
   "source": [
    "l3[1:]"
   ]
  },
  {
   "cell_type": "code",
   "execution_count": 39,
   "id": "3e155a7b",
   "metadata": {},
   "outputs": [
    {
     "data": {
      "text/plain": [
       "['apple', '1', 2.3, 'apple', '1', 2.3, 'apple', '1', 2.3]"
      ]
     },
     "execution_count": 39,
     "metadata": {},
     "output_type": "execute_result"
    }
   ],
   "source": [
    "l1*3 # repeating l1 list"
   ]
  },
  {
   "cell_type": "code",
   "execution_count": 40,
   "id": "36006451",
   "metadata": {},
   "outputs": [
    {
     "data": {
      "text/plain": [
       "2.3"
      ]
     },
     "execution_count": 40,
     "metadata": {},
     "output_type": "execute_result"
    }
   ],
   "source": [
    "l1[2] #indexing list element"
   ]
  },
  {
   "cell_type": "code",
   "execution_count": 47,
   "id": "13614a5f",
   "metadata": {},
   "outputs": [
    {
     "data": {
      "text/plain": [
       "[4, 7, '2', 'Grapes', 'mango']"
      ]
     },
     "execution_count": 47,
     "metadata": {},
     "output_type": "execute_result"
    }
   ],
   "source": [
    "l2"
   ]
  },
  {
   "cell_type": "code",
   "execution_count": 46,
   "id": "77ff96d4",
   "metadata": {},
   "outputs": [
    {
     "name": "stdout",
     "output_type": "stream",
     "text": [
      "[4, 7, '2', 'Grapes', 'mango']\n"
     ]
    }
   ],
   "source": [
    "l2.append('mango') # adding element to list\n",
    "print(l2)"
   ]
  },
  {
   "cell_type": "markdown",
   "id": "a682a72c",
   "metadata": {},
   "source": [
    "### Task 6: Python Tuples (read only lists)\n",
    "1. enclosed in ()\n",
    "2. can't be updated once created"
   ]
  },
  {
   "cell_type": "code",
   "execution_count": 48,
   "id": "3f1109d1",
   "metadata": {},
   "outputs": [
    {
     "name": "stdout",
     "output_type": "stream",
     "text": [
      "(2, 'apple', 3, 4)\n"
     ]
    }
   ],
   "source": [
    "t=(2,'apple',3,4)\n",
    "print(t)"
   ]
  },
  {
   "cell_type": "code",
   "execution_count": 49,
   "id": "7abb1685",
   "metadata": {},
   "outputs": [
    {
     "data": {
      "text/plain": [
       "2"
      ]
     },
     "execution_count": 49,
     "metadata": {},
     "output_type": "execute_result"
    }
   ],
   "source": [
    "t[0]"
   ]
  },
  {
   "cell_type": "code",
   "execution_count": 51,
   "id": "7f96dd86",
   "metadata": {},
   "outputs": [
    {
     "ename": "TypeError",
     "evalue": "'tuple' object does not support item assignment",
     "output_type": "error",
     "traceback": [
      "\u001b[1;31m---------------------------------------------------------------------------\u001b[0m",
      "\u001b[1;31mTypeError\u001b[0m                                 Traceback (most recent call last)",
      "\u001b[1;32m<ipython-input-51-c5822e8df7c8>\u001b[0m in \u001b[0;36m<module>\u001b[1;34m\u001b[0m\n\u001b[1;32m----> 1\u001b[1;33m \u001b[0mt\u001b[0m\u001b[1;33m[\u001b[0m\u001b[1;36m0\u001b[0m\u001b[1;33m]\u001b[0m\u001b[1;33m=\u001b[0m\u001b[1;36m3\u001b[0m \u001b[1;31m# will generate an error\u001b[0m\u001b[1;33m\u001b[0m\u001b[1;33m\u001b[0m\u001b[0m\n\u001b[0m",
      "\u001b[1;31mTypeError\u001b[0m: 'tuple' object does not support item assignment"
     ]
    }
   ],
   "source": [
    "t[0]=3 # will generate an error"
   ]
  },
  {
   "cell_type": "markdown",
   "id": "e68d3a92",
   "metadata": {},
   "source": [
    "### Task 7: Python Dictionary (Hash table / Key-Value Pair)\n",
    "Dictionaries are enclosed by curly braces ({ }) and values can be assigned and accessed using square braces ([])."
   ]
  },
  {
   "cell_type": "code",
   "execution_count": 54,
   "id": "44d3477a",
   "metadata": {},
   "outputs": [
    {
     "name": "stdout",
     "output_type": "stream",
     "text": [
      "{'id': 1, 'name': 'hamad'}\n"
     ]
    }
   ],
   "source": [
    "d={'id':1,'name':'hamad'}\n",
    "print(d)"
   ]
  },
  {
   "cell_type": "code",
   "execution_count": 56,
   "id": "ea210498",
   "metadata": {},
   "outputs": [
    {
     "name": "stdout",
     "output_type": "stream",
     "text": [
      "{'id': 1, 'name': 'hamad', 'average': 3.7}\n"
     ]
    }
   ],
   "source": [
    "d['average']=3.7\n",
    "print(d)"
   ]
  },
  {
   "cell_type": "code",
   "execution_count": 69,
   "id": "d62c0651",
   "metadata": {},
   "outputs": [
    {
     "name": "stdout",
     "output_type": "stream",
     "text": [
      "hamad\n",
      "dict_keys(['id', 'name', 'average', 3])\n",
      "dict_values([1, 'hamad', 3.7, 'value'])\n",
      "<class 'dict_keys'>\n",
      "<class 'dict_values'>\n"
     ]
    }
   ],
   "source": [
    "print(d['name'])\n",
    "print(d.keys()) # return keys in dictionary\n",
    "print(d.values()) # return values in dictionary\n",
    "\n",
    "print(type(d.keys())) \n",
    "print(type(d.values()))"
   ]
  },
  {
   "cell_type": "code",
   "execution_count": 67,
   "id": "73b49772",
   "metadata": {},
   "outputs": [
    {
     "name": "stdout",
     "output_type": "stream",
     "text": [
      "value\n"
     ]
    }
   ],
   "source": [
    "d[3]='value' # can also use integer keys\n",
    "print(d[3])"
   ]
  },
  {
   "cell_type": "markdown",
   "id": "adad8e6a",
   "metadata": {},
   "source": [
    "### Task 8: Data Type Conversion\n",
    "To convert between types, you simply use the type-name as a function"
   ]
  },
  {
   "cell_type": "code",
   "execution_count": 73,
   "id": "30bfbe82",
   "metadata": {},
   "outputs": [
    {
     "name": "stdout",
     "output_type": "stream",
     "text": [
      "\n",
      " Integer 2 <class 'int'> \n",
      " Float 3.5 <class 'float'> \n",
      " String apple <class 'str'> \n",
      " List [1, 2, 3] <class 'list'> \n",
      " Tuple (2, 'mango', 6.8) <class 'tuple'> \n",
      " Dictionary {'name': 'ali', 'marks': 90} <class 'dict'>\n"
     ]
    }
   ],
   "source": [
    "a=2\n",
    "b=3.5\n",
    "c=\"apple\"\n",
    "d=[1,2,3]\n",
    "e=(2,\"mango\",6.8)\n",
    "f={'name':'ali','marks':90}\n",
    "\n",
    "print('\\n Integer',a,type(a),\n",
    "      '\\n Float',b,type(b),\n",
    "      '\\n String',c,type(c),\n",
    "      '\\n List',d,type(d),\n",
    "      '\\n Tuple',e,type(e),\n",
    "      '\\n Dictionary',f,type(f))"
   ]
  },
  {
   "cell_type": "code",
   "execution_count": 75,
   "id": "21286d53",
   "metadata": {},
   "outputs": [
    {
     "data": {
      "text/plain": [
       "'2'"
      ]
     },
     "execution_count": 75,
     "metadata": {},
     "output_type": "execute_result"
    }
   ],
   "source": [
    "#int to string\n",
    "(str(a))"
   ]
  },
  {
   "cell_type": "code",
   "execution_count": 77,
   "id": "84f06e50",
   "metadata": {},
   "outputs": [
    {
     "ename": "ValueError",
     "evalue": "invalid literal for int() with base 10: 'apple'",
     "output_type": "error",
     "traceback": [
      "\u001b[1;31m---------------------------------------------------------------------------\u001b[0m",
      "\u001b[1;31mValueError\u001b[0m                                Traceback (most recent call last)",
      "\u001b[1;32m<ipython-input-77-d0c010d8a7bc>\u001b[0m in \u001b[0;36m<module>\u001b[1;34m\u001b[0m\n\u001b[1;32m----> 1\u001b[1;33m \u001b[1;33m(\u001b[0m\u001b[0mint\u001b[0m\u001b[1;33m(\u001b[0m\u001b[0mc\u001b[0m\u001b[1;33m)\u001b[0m\u001b[1;33m)\u001b[0m \u001b[1;31m# apple cannot be converted to integer\u001b[0m\u001b[1;33m\u001b[0m\u001b[1;33m\u001b[0m\u001b[0m\n\u001b[0m",
      "\u001b[1;31mValueError\u001b[0m: invalid literal for int() with base 10: 'apple'"
     ]
    }
   ],
   "source": [
    "(int(c)) # apple cannot be converted to integer"
   ]
  },
  {
   "cell_type": "code",
   "execution_count": 79,
   "id": "b24a7052",
   "metadata": {},
   "outputs": [
    {
     "data": {
      "text/plain": [
       "234"
      ]
     },
     "execution_count": 79,
     "metadata": {},
     "output_type": "execute_result"
    }
   ],
   "source": [
    "a='234' # string is convertible to int\n",
    "int(a)"
   ]
  },
  {
   "cell_type": "code",
   "execution_count": 81,
   "id": "00763702",
   "metadata": {},
   "outputs": [
    {
     "data": {
      "text/plain": [
       "['a', 'p', 'p', 'l', 'e']"
      ]
     },
     "execution_count": 81,
     "metadata": {},
     "output_type": "execute_result"
    }
   ],
   "source": [
    "list(c) # apple is converted to list or chracter array"
   ]
  },
  {
   "cell_type": "code",
   "execution_count": 82,
   "id": "34098a6f",
   "metadata": {},
   "outputs": [
    {
     "data": {
      "text/plain": [
       "(1, 2, 3)"
      ]
     },
     "execution_count": 82,
     "metadata": {},
     "output_type": "execute_result"
    }
   ],
   "source": [
    "tuple(d)"
   ]
  },
  {
   "cell_type": "markdown",
   "id": "c02046eb",
   "metadata": {},
   "source": [
    "> So we have seen that conversion from one form to other is possible in python"
   ]
  },
  {
   "cell_type": "code",
   "execution_count": null,
   "id": "5b4d0d1f",
   "metadata": {},
   "outputs": [],
   "source": []
  }
 ],
 "metadata": {
  "kernelspec": {
   "display_name": "Python 3",
   "language": "python",
   "name": "python3"
  },
  "language_info": {
   "codemirror_mode": {
    "name": "ipython",
    "version": 3
   },
   "file_extension": ".py",
   "mimetype": "text/x-python",
   "name": "python",
   "nbconvert_exporter": "python",
   "pygments_lexer": "ipython3",
   "version": "3.8.8"
  }
 },
 "nbformat": 4,
 "nbformat_minor": 5
}
