{
 "cells": [
  {
   "cell_type": "markdown",
   "id": "06e2e61a",
   "metadata": {},
   "source": [
    "# 1- Getting Started With Python\n",
    "### NoteBook Author: Muhammad Hamad"
   ]
  },
  {
   "cell_type": "markdown",
   "id": "a575fd57",
   "metadata": {},
   "source": [
    "### Task 1: How to Output on Console"
   ]
  },
  {
   "cell_type": "code",
   "execution_count": 6,
   "id": "314d2419",
   "metadata": {},
   "outputs": [
    {
     "name": "stdout",
     "output_type": "stream",
     "text": [
      "Hello World\n"
     ]
    }
   ],
   "source": [
    "print(\"Hello World\")"
   ]
  },
  {
   "cell_type": "markdown",
   "id": "1c23ebdd",
   "metadata": {},
   "source": [
    "### Task 2: How to take user Input"
   ]
  },
  {
   "cell_type": "code",
   "execution_count": 3,
   "id": "4c67af79",
   "metadata": {},
   "outputs": [
    {
     "name": "stdout",
     "output_type": "stream",
     "text": [
      "First Number: 3\n",
      "Second Number: 4\n",
      "34\n"
     ]
    }
   ],
   "source": [
    "x=input(\"First Number: \")\n",
    "y=input(\"Second Number: \")\n",
    "print(x+y) # numbers are treated as string"
   ]
  },
  {
   "cell_type": "code",
   "execution_count": 5,
   "id": "c3248e46",
   "metadata": {},
   "outputs": [
    {
     "name": "stdout",
     "output_type": "stream",
     "text": [
      "First Number: 3\n",
      "Second Number: 4\n",
      "7\n"
     ]
    }
   ],
   "source": [
    "x=input(\"First Number: \")\n",
    "y=input(\"Second Number: \")\n",
    "print(int(x)+int(y)) # convert to int before addition"
   ]
  },
  {
   "cell_type": "markdown",
   "id": "66dbfab3",
   "metadata": {},
   "source": [
    "### Task 3: Python Identifiers\n",
    "1. A Python identifier is a name used to identify a variable, function, class, module or other object. \n",
    "2. An identifier starts with a letter A to Z or a to z or an underscore (_) followed by zero or more letters, underscores and digits (0 to 9).\n",
    "3. Python does not allow punctuation characters such as @, $, and % within identifiers\n",
    "4. Python is a case sensitive programming language. Man and MAN are different\n",
    "\n",
    "#### Naming conventions for Python identifiers\n",
    "\n",
    "1. Class names start with an uppercase letter. All other identifiers start with a lowercase letter.\n",
    "2. Starting an identifier with a single leading underscore indicates that the identifier is private.\n",
    "3.  Starting an identifier with two leading underscores indicates a strong private identifier.\n",
    "4.  If the identifier also ends with two trailing underscores, the identifier is a language defined special name\n"
   ]
  },
  {
   "cell_type": "markdown",
   "id": "035e0f1c",
   "metadata": {},
   "source": [
    "![reserved](images/reserved.PNG \"Reserved\")"
   ]
  },
  {
   "cell_type": "markdown",
   "id": "da2f8782",
   "metadata": {},
   "source": [
    "#### Lines and Indentation\n",
    "Python does not use braces({}) to indicate blocks of code for class and function definitions\n",
    "or flow control. Blocks of code are denoted by line indentation, which is rigidly enforced.\n",
    "The number of spaces in the indentation is variable, but all statements within the block\n",
    "must be indented the same amount. For example"
   ]
  },
  {
   "cell_type": "code",
   "execution_count": 10,
   "id": "f3ad8ef8",
   "metadata": {},
   "outputs": [
    {
     "name": "stdout",
     "output_type": "stream",
     "text": [
      "True\n"
     ]
    }
   ],
   "source": [
    "if True:\n",
    "    print('True')\n",
    "else:\n",
    "    print('False')"
   ]
  },
  {
   "cell_type": "code",
   "execution_count": 12,
   "id": "00b16994",
   "metadata": {},
   "outputs": [
    {
     "ename": "IndentationError",
     "evalue": "expected an indented block (<ipython-input-12-29b5485c865f>, line 3)",
     "output_type": "error",
     "traceback": [
      "\u001b[1;36m  File \u001b[1;32m\"<ipython-input-12-29b5485c865f>\"\u001b[1;36m, line \u001b[1;32m3\u001b[0m\n\u001b[1;33m    print('True')\u001b[0m\n\u001b[1;37m    ^\u001b[0m\n\u001b[1;31mIndentationError\u001b[0m\u001b[1;31m:\u001b[0m expected an indented block\n"
     ]
    }
   ],
   "source": [
    "#Improper Indentation\n",
    "if True:\n",
    "print('True')\n",
    "else:\n",
    "    print('False')"
   ]
  },
  {
   "cell_type": "markdown",
   "id": "086c58ea",
   "metadata": {},
   "source": [
    "### Task4: Multi-Line Statements [ line continuation character ]"
   ]
  },
  {
   "cell_type": "code",
   "execution_count": 13,
   "id": "df741af4",
   "metadata": {},
   "outputs": [
    {
     "ename": "SyntaxError",
     "evalue": "invalid syntax (<ipython-input-13-4189e426a40f>, line 1)",
     "output_type": "error",
     "traceback": [
      "\u001b[1;36m  File \u001b[1;32m\"<ipython-input-13-4189e426a40f>\"\u001b[1;36m, line \u001b[1;32m1\u001b[0m\n\u001b[1;33m    total=1+\u001b[0m\n\u001b[1;37m            ^\u001b[0m\n\u001b[1;31mSyntaxError\u001b[0m\u001b[1;31m:\u001b[0m invalid syntax\n"
     ]
    }
   ],
   "source": [
    "total=1+\n",
    "      2+\n",
    "      3\n",
    "total"
   ]
  },
  {
   "cell_type": "code",
   "execution_count": 17,
   "id": "f9184018",
   "metadata": {},
   "outputs": [
    {
     "name": "stdout",
     "output_type": "stream",
     "text": [
      "6\n"
     ]
    }
   ],
   "source": [
    "# use line continuation character - i.e. forward slash\n",
    "total=1+ \\\n",
    "      2+ \\\n",
    "      3\n",
    "print(total)"
   ]
  },
  {
   "cell_type": "markdown",
   "id": "f44c16e8",
   "metadata": {},
   "source": [
    "![Comments](images/comments.png \"Comments\")"
   ]
  },
  {
   "cell_type": "markdown",
   "id": "6e15491d",
   "metadata": {},
   "source": [
    "### Multiple statements on single line use semicolon"
   ]
  },
  {
   "cell_type": "code",
   "execution_count": 19,
   "id": "db9413fc",
   "metadata": {},
   "outputs": [
    {
     "name": "stdout",
     "output_type": "stream",
     "text": [
      "ali\n"
     ]
    }
   ],
   "source": [
    "import sys; x='ali'; print(x)"
   ]
  },
  {
   "cell_type": "code",
   "execution_count": null,
   "id": "fa9803b9",
   "metadata": {},
   "outputs": [],
   "source": []
  }
 ],
 "metadata": {
  "kernelspec": {
   "display_name": "Python 3",
   "language": "python",
   "name": "python3"
  },
  "language_info": {
   "codemirror_mode": {
    "name": "ipython",
    "version": 3
   },
   "file_extension": ".py",
   "mimetype": "text/x-python",
   "name": "python",
   "nbconvert_exporter": "python",
   "pygments_lexer": "ipython3",
   "version": "3.8.8"
  }
 },
 "nbformat": 4,
 "nbformat_minor": 5
}
