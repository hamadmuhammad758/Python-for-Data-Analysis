{
 "cells": [
  {
   "cell_type": "markdown",
   "id": "45c13485",
   "metadata": {},
   "source": [
    "# 4. Flow Control in Python\n",
    "### NoteBook Author: Muhammad Hamad"
   ]
  },
  {
   "cell_type": "markdown",
   "id": "14b3c89c",
   "metadata": {},
   "source": [
    "Decision structures evaluate multiple expressions, which produce TRUE or FALSE as the outcome. You need to determine which action to take and which statements to execute if\n",
    "the outcome is TRUE or FALSE otherwise."
   ]
  },
  {
   "cell_type": "markdown",
   "id": "fe350121",
   "metadata": {},
   "source": [
    "![](images/flow.png \"Flow Control\")"
   ]
  },
  {
   "cell_type": "markdown",
   "id": "83e2b77c",
   "metadata": {},
   "source": [
    "> Python programming language assumes any non-zero and non-null values as TRUE, and any zero or null values as FALSE value"
   ]
  },
  {
   "cell_type": "markdown",
   "id": "67c29498",
   "metadata": {},
   "source": [
    "### Task 1: If Statement \n",
    "if(condition):\n",
    "\n",
    "    statement(s)"
   ]
  },
  {
   "cell_type": "code",
   "execution_count": 2,
   "id": "4d83ce1b",
   "metadata": {},
   "outputs": [
    {
     "name": "stdout",
     "output_type": "stream",
     "text": [
      "value of marks is non-zero so evaluates to true\n"
     ]
    }
   ],
   "source": [
    "marks=50\n",
    "if(marks):\n",
    "    print(\"value of marks is non-zero so evaluates to true\")"
   ]
  },
  {
   "cell_type": "code",
   "execution_count": 4,
   "id": "80374856",
   "metadata": {},
   "outputs": [],
   "source": [
    "marks=0\n",
    "if(marks):\n",
    "    print(\"value of marks is zero so condition evaluates to false, this print would not work\")"
   ]
  },
  {
   "cell_type": "markdown",
   "id": "6756c533",
   "metadata": {},
   "source": [
    "### Task 2: If...elif...else Statement \n",
    "\n",
    "An else statement contains a block of code that executes if the conditional expression in the if statement resolves to 0\n",
    "or a FALSE value"
   ]
  },
  {
   "cell_type": "code",
   "execution_count": 6,
   "id": "5f4c07f8",
   "metadata": {},
   "outputs": [
    {
     "name": "stdout",
     "output_type": "stream",
     "text": [
      "else block executed\n"
     ]
    }
   ],
   "source": [
    "if(0):\n",
    "    print(\"if block executed\")\n",
    "else:\n",
    "    print(\"else block executed\") # This statement would  be executed because conditional expression evaluates to flase"
   ]
  },
  {
   "cell_type": "code",
   "execution_count": 7,
   "id": "d479c81b",
   "metadata": {},
   "outputs": [
    {
     "name": "stdout",
     "output_type": "stream",
     "text": [
      "Enter Number to Check if it's even or odd2\n",
      "2  is an Even Number\n"
     ]
    }
   ],
   "source": [
    "a=int(input(\"Enter Number to Check if it's even or odd\"))\n",
    "if(a%2==0):\n",
    "    print(a,\" is an Even Number\")\n",
    "else:\n",
    "    print(a,\" is an Odd Number\")"
   ]
  },
  {
   "cell_type": "markdown",
   "id": "00f102b7",
   "metadata": {},
   "source": [
    "### Task 3: The elif Statement\n",
    "The elif statement allows you to check multiple expressions for TRUE and execute a block of code as soon as one of the conditions evaluates to TRUE"
   ]
  },
  {
   "cell_type": "code",
   "execution_count": 9,
   "id": "df4ffe3f",
   "metadata": {},
   "outputs": [
    {
     "name": "stdout",
     "output_type": "stream",
     "text": [
      "Enter Marks to find out Grade: 47\n",
      "C GRADE\n"
     ]
    }
   ],
   "source": [
    "#Based on which condition evaluates to true the respective block would get executed\n",
    "\n",
    "a=int(input(\"Enter Marks to find out Grade: \"))\n",
    "if(a>=80 and a<=100):\n",
    "    print(\"A GRADE\")\n",
    "elif(a>=60 and a<=79):\n",
    "    print(\"B GRADE\")\n",
    "elif(a>=40 and a<=59):\n",
    "    print(\"C GRADE\")    \n",
    "else:\n",
    "    print(\"Fail\")"
   ]
  },
  {
   "cell_type": "markdown",
   "id": "de0c5b34",
   "metadata": {},
   "source": [
    "### Task 4: Nested if-else"
   ]
  },
  {
   "cell_type": "code",
   "execution_count": 12,
   "id": "816970a0",
   "metadata": {},
   "outputs": [
    {
     "name": "stdout",
     "output_type": "stream",
     "text": [
      "Enter Number to find if divisible by 2 and 3: 18\n",
      "18  is divisible by both 2 and 3\n"
     ]
    }
   ],
   "source": [
    "a=int(input(\"Enter Number to find if divisible by 2 and 3: \"))\n",
    "if(a%2==0):\n",
    "    if(a%3==0):\n",
    "        print(a,\" is divisible by both 2 and 3\")\n",
    "    else:\n",
    "        print(a,\" is only divisible by 2\")\n",
    "else:\n",
    "    print(a,\" is not divisible by both 2 and 3\")"
   ]
  },
  {
   "cell_type": "code",
   "execution_count": null,
   "id": "15d973f2",
   "metadata": {},
   "outputs": [],
   "source": []
  }
 ],
 "metadata": {
  "kernelspec": {
   "display_name": "Python 3",
   "language": "python",
   "name": "python3"
  },
  "language_info": {
   "codemirror_mode": {
    "name": "ipython",
    "version": 3
   },
   "file_extension": ".py",
   "mimetype": "text/x-python",
   "name": "python",
   "nbconvert_exporter": "python",
   "pygments_lexer": "ipython3",
   "version": "3.8.8"
  }
 },
 "nbformat": 4,
 "nbformat_minor": 5
}
