{
 "cells": [
  {
   "cell_type": "markdown",
   "id": "d87438b0",
   "metadata": {},
   "source": [
    "# 6. Number Data Type - Useful Function\n",
    "## Book : Tutorial Point \n",
    "### NoteBook Author: Muhammad Hamad"
   ]
  },
  {
   "cell_type": "markdown",
   "id": "7b4aef8a",
   "metadata": {},
   "source": [
    "### Task: Creating and Deleting a Number"
   ]
  },
  {
   "cell_type": "code",
   "execution_count": 5,
   "id": "d43985f9",
   "metadata": {},
   "outputs": [
    {
     "name": "stdout",
     "output_type": "stream",
     "text": [
      "Before Deletion:  10\n"
     ]
    },
    {
     "ename": "NameError",
     "evalue": "name 'n' is not defined",
     "output_type": "error",
     "traceback": [
      "\u001b[1;31m---------------------------------------------------------------------------\u001b[0m",
      "\u001b[1;31mNameError\u001b[0m                                 Traceback (most recent call last)",
      "\u001b[1;32m<ipython-input-5-4ef1b481610f>\u001b[0m in \u001b[0;36m<module>\u001b[1;34m\u001b[0m\n\u001b[0;32m      2\u001b[0m \u001b[0mprint\u001b[0m\u001b[1;33m(\u001b[0m\u001b[1;34m\"Before Deletion: \"\u001b[0m\u001b[1;33m,\u001b[0m\u001b[0mn\u001b[0m\u001b[1;33m)\u001b[0m\u001b[1;33m\u001b[0m\u001b[1;33m\u001b[0m\u001b[0m\n\u001b[0;32m      3\u001b[0m \u001b[1;32mdel\u001b[0m \u001b[0mn\u001b[0m\u001b[1;33m\u001b[0m\u001b[1;33m\u001b[0m\u001b[0m\n\u001b[1;32m----> 4\u001b[1;33m \u001b[0mprint\u001b[0m\u001b[1;33m(\u001b[0m\u001b[0mn\u001b[0m\u001b[1;33m)\u001b[0m \u001b[1;31m# n is deleted and does not exist\u001b[0m\u001b[1;33m\u001b[0m\u001b[1;33m\u001b[0m\u001b[0m\n\u001b[0m",
      "\u001b[1;31mNameError\u001b[0m: name 'n' is not defined"
     ]
    }
   ],
   "source": [
    "n=10 # creating a number\n",
    "print(\"Before Deletion: \",n)\n",
    "del n\n",
    "print(n) # n is deleted and does not exist"
   ]
  },
  {
   "cell_type": "markdown",
   "id": "d2fc0aac",
   "metadata": {},
   "source": [
    "### Task: abs() function"
   ]
  },
  {
   "cell_type": "code",
   "execution_count": 7,
   "id": "18671984",
   "metadata": {},
   "outputs": [
    {
     "data": {
      "text/plain": [
       "5"
      ]
     },
     "execution_count": 7,
     "metadata": {},
     "output_type": "execute_result"
    }
   ],
   "source": [
    "a=-5\n",
    "abs(5) # always return positive Value of integer"
   ]
  },
  {
   "cell_type": "markdown",
   "id": "9d12ee0b",
   "metadata": {},
   "source": [
    "### Task: ceil() function\n"
   ]
  },
  {
   "cell_type": "code",
   "execution_count": 11,
   "id": "ad251245",
   "metadata": {},
   "outputs": [
    {
     "data": {
      "text/plain": [
       "4"
      ]
     },
     "execution_count": 11,
     "metadata": {},
     "output_type": "execute_result"
    }
   ],
   "source": [
    "import math \n",
    "\n",
    "a=3.4\n",
    "math.ceil(a) # raise to upper number"
   ]
  },
  {
   "cell_type": "markdown",
   "id": "69937c5e",
   "metadata": {},
   "source": [
    "### Task: floor function"
   ]
  },
  {
   "cell_type": "code",
   "execution_count": 15,
   "id": "4612ff63",
   "metadata": {},
   "outputs": [
    {
     "data": {
      "text/plain": [
       "10"
      ]
     },
     "execution_count": 15,
     "metadata": {},
     "output_type": "execute_result"
    }
   ],
   "source": [
    "a=10.4\n",
    "math.floor(a) # returns lower number"
   ]
  },
  {
   "cell_type": "markdown",
   "id": "bf82e6c3",
   "metadata": {},
   "source": [
    "### Task: Log function"
   ]
  },
  {
   "cell_type": "code",
   "execution_count": 16,
   "id": "0e32bed2",
   "metadata": {},
   "outputs": [
    {
     "data": {
      "text/plain": [
       "2.302585092994046"
      ]
     },
     "execution_count": 16,
     "metadata": {},
     "output_type": "execute_result"
    }
   ],
   "source": [
    "math.log(10) # Natural Log"
   ]
  },
  {
   "cell_type": "code",
   "execution_count": 17,
   "id": "9e9a1e98",
   "metadata": {},
   "outputs": [
    {
     "data": {
      "text/plain": [
       "2.0"
      ]
     },
     "execution_count": 17,
     "metadata": {},
     "output_type": "execute_result"
    }
   ],
   "source": [
    "math.log10(100) # Log 10"
   ]
  },
  {
   "cell_type": "markdown",
   "id": "8f3b0401",
   "metadata": {},
   "source": [
    "\n",
    "### Task: Max and Min Function"
   ]
  },
  {
   "cell_type": "code",
   "execution_count": 20,
   "id": "0637f301",
   "metadata": {},
   "outputs": [
    {
     "name": "stdout",
     "output_type": "stream",
     "text": [
      "Max:  62\n",
      "Min:  2\n"
     ]
    }
   ],
   "source": [
    "# returns max number from provided\n",
    "\n",
    "print(\"Max: \",max(3,5,2,45,62,54,5))\n",
    "print(\"Min: \",min(3,5,2,45,62,54,5))"
   ]
  },
  {
   "cell_type": "markdown",
   "id": "015e4d3a",
   "metadata": {},
   "source": [
    "### Task: modf Function"
   ]
  },
  {
   "cell_type": "code",
   "execution_count": 23,
   "id": "252591aa",
   "metadata": {},
   "outputs": [
    {
     "data": {
      "text/plain": [
       "(0.2873000000000019, 45.0)"
      ]
     },
     "execution_count": 23,
     "metadata": {},
     "output_type": "execute_result"
    }
   ],
   "source": [
    "a=45.2873\n",
    "math.modf(a) # returns the fractional and integer parts of x in a two-item tuple"
   ]
  },
  {
   "cell_type": "markdown",
   "id": "75d252cd",
   "metadata": {},
   "source": [
    "### Task: pow Function"
   ]
  },
  {
   "cell_type": "code",
   "execution_count": 25,
   "id": "69fd8b0a",
   "metadata": {},
   "outputs": [
    {
     "data": {
      "text/plain": [
       "32.0"
      ]
     },
     "execution_count": 25,
     "metadata": {},
     "output_type": "execute_result"
    }
   ],
   "source": [
    "math.pow(2,5) # 2^5 = 32"
   ]
  },
  {
   "cell_type": "markdown",
   "id": "5efa185c",
   "metadata": {},
   "source": [
    "### Task: Round Function"
   ]
  },
  {
   "cell_type": "code",
   "execution_count": 27,
   "id": "60d6589a",
   "metadata": {},
   "outputs": [
    {
     "name": "stdout",
     "output_type": "stream",
     "text": [
      "round(70.23456) :  70\n",
      "round(56.659,1) :  56.7\n",
      "round(80.264, 2) :  80.26\n",
      "round(100.000056, 3) :  100.0\n",
      "round(-100.000056, 3) :  -100.0\n"
     ]
    }
   ],
   "source": [
    "# It returns x rounded to n digits from the decimal point\n",
    "\n",
    "print (\"round(70.23456) : \", round(70.23456))\n",
    "print (\"round(56.659,1) : \", round(56.659,1))\n",
    "print (\"round(80.264, 2) : \", round(80.264, 2))\n",
    "print (\"round(100.000056, 3) : \", round(100.000056, 3))\n",
    "print (\"round(-100.000056, 3) : \", round(-100.000056, 3))"
   ]
  },
  {
   "cell_type": "markdown",
   "id": "11b22329",
   "metadata": {},
   "source": [
    "### Task: Sqrt Function"
   ]
  },
  {
   "cell_type": "code",
   "execution_count": 29,
   "id": "bebf0b78",
   "metadata": {},
   "outputs": [
    {
     "data": {
      "text/plain": [
       "6.0"
      ]
     },
     "execution_count": 29,
     "metadata": {},
     "output_type": "execute_result"
    }
   ],
   "source": [
    "math.sqrt(36)"
   ]
  },
  {
   "cell_type": "markdown",
   "id": "7ca798bc",
   "metadata": {},
   "source": [
    "### Task: Random Function"
   ]
  },
  {
   "cell_type": "code",
   "execution_count": 34,
   "id": "30e8e7a8",
   "metadata": {},
   "outputs": [
    {
     "data": {
      "text/plain": [
       "3"
      ]
     },
     "execution_count": 34,
     "metadata": {},
     "output_type": "execute_result"
    }
   ],
   "source": [
    "import random\n",
    "random.randrange(3,14,2) # returns random number from range , randrange (start,stop,step)"
   ]
  },
  {
   "cell_type": "markdown",
   "id": "8b5f8c84",
   "metadata": {},
   "source": [
    "### Task: Trignometric Function"
   ]
  },
  {
   "cell_type": "code",
   "execution_count": 36,
   "id": "8bbb036a",
   "metadata": {},
   "outputs": [
    {
     "data": {
      "text/plain": [
       "0.8939966636005579"
      ]
     },
     "execution_count": 36,
     "metadata": {},
     "output_type": "execute_result"
    }
   ],
   "source": [
    "math.sin(90)"
   ]
  },
  {
   "cell_type": "code",
   "execution_count": 38,
   "id": "85dcbb08",
   "metadata": {},
   "outputs": [
    {
     "data": {
      "text/plain": [
       "0.5403023058681398"
      ]
     },
     "execution_count": 38,
     "metadata": {},
     "output_type": "execute_result"
    }
   ],
   "source": [
    "math.cos(1)"
   ]
  },
  {
   "cell_type": "markdown",
   "id": "2d05373a",
   "metadata": {},
   "source": [
    "### Task: Pythagorean Theorm hyp=sqrt(x^2-y^2)"
   ]
  },
  {
   "cell_type": "code",
   "execution_count": 41,
   "id": "fabbf1cb",
   "metadata": {},
   "outputs": [
    {
     "data": {
      "text/plain": [
       "5.0"
      ]
     },
     "execution_count": 41,
     "metadata": {},
     "output_type": "execute_result"
    }
   ],
   "source": [
    "math.hypot(3,4)"
   ]
  },
  {
   "cell_type": "markdown",
   "id": "02cb68f4",
   "metadata": {},
   "source": [
    "### Task: Radian to Degree Conversion"
   ]
  },
  {
   "cell_type": "code",
   "execution_count": 42,
   "id": "57a59920",
   "metadata": {},
   "outputs": [
    {
     "data": {
      "text/plain": [
       "171.88733853924697"
      ]
     },
     "execution_count": 42,
     "metadata": {},
     "output_type": "execute_result"
    }
   ],
   "source": [
    "math.degrees(3)"
   ]
  },
  {
   "cell_type": "markdown",
   "id": "826e990d",
   "metadata": {},
   "source": [
    "### Task: Degree to Radian Conversion"
   ]
  },
  {
   "cell_type": "code",
   "execution_count": 44,
   "id": "5c996a63",
   "metadata": {},
   "outputs": [
    {
     "data": {
      "text/plain": [
       "2.999999999999997"
      ]
     },
     "execution_count": 44,
     "metadata": {},
     "output_type": "execute_result"
    }
   ],
   "source": [
    "math.radians(171.887338539246797)"
   ]
  },
  {
   "cell_type": "markdown",
   "id": "4b4239c6",
   "metadata": {},
   "source": [
    "### Task: Mathematical Constants"
   ]
  },
  {
   "cell_type": "code",
   "execution_count": 45,
   "id": "eb517099",
   "metadata": {},
   "outputs": [
    {
     "data": {
      "text/plain": [
       "3.141592653589793"
      ]
     },
     "execution_count": 45,
     "metadata": {},
     "output_type": "execute_result"
    }
   ],
   "source": [
    "math.pi"
   ]
  },
  {
   "cell_type": "code",
   "execution_count": 46,
   "id": "2e1bd59b",
   "metadata": {},
   "outputs": [
    {
     "data": {
      "text/plain": [
       "2.718281828459045"
      ]
     },
     "execution_count": 46,
     "metadata": {},
     "output_type": "execute_result"
    }
   ],
   "source": [
    "math.e"
   ]
  },
  {
   "cell_type": "code",
   "execution_count": null,
   "id": "1b2d0e02",
   "metadata": {},
   "outputs": [],
   "source": []
  }
 ],
 "metadata": {
  "kernelspec": {
   "display_name": "Python 3",
   "language": "python",
   "name": "python3"
  },
  "language_info": {
   "codemirror_mode": {
    "name": "ipython",
    "version": 3
   },
   "file_extension": ".py",
   "mimetype": "text/x-python",
   "name": "python",
   "nbconvert_exporter": "python",
   "pygments_lexer": "ipython3",
   "version": "3.8.8"
  }
 },
 "nbformat": 4,
 "nbformat_minor": 5
}
